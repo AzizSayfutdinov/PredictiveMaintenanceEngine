{
 "cells": [
  {
   "cell_type": "code",
   "execution_count": 2,
   "metadata": {},
   "outputs": [
    {
     "output_type": "stream",
     "name": "stdout",
     "text": [
      "Populating the interactive namespace from numpy and matplotlib\n"
     ]
    }
   ],
   "source": [
    "%pylab inline\n",
    "import pandas as pd\n",
    "import numpy as np\n",
    "import matplotlib as plt\n",
    "import sklearn\n",
    "\n",
    "from sklearn.preprocessing import MinMaxScaler\n",
    "from sklearn.metrics import confusion_matrix,accuracy_score\n",
    "from sklearn.linear_model import LogisticRegression\n",
    "from sklearn.svm import LinearSVC\n",
    "from keras.models import Sequential"
   ]
  },
  {
   "cell_type": "code",
   "execution_count": 3,
   "metadata": {},
   "outputs": [
    {
     "output_type": "stream",
     "name": "stdout",
     "text": [
      "Shape of Train dataset:  (20631, 26)\n"
     ]
    },
    {
     "output_type": "execute_result",
     "data": {
      "text/plain": [
       "   id  cycle  setting1  setting2  setting3      s1      s2       s3       s4  \\\n",
       "0   1      1   -0.0007   -0.0004     100.0  518.67  641.82  1589.70  1400.60   \n",
       "1   1      2    0.0019   -0.0003     100.0  518.67  642.15  1591.82  1403.14   \n",
       "2   1      3   -0.0043    0.0003     100.0  518.67  642.35  1587.99  1404.20   \n",
       "3   1      4    0.0007    0.0000     100.0  518.67  642.35  1582.79  1401.87   \n",
       "4   1      5   -0.0019   -0.0002     100.0  518.67  642.37  1582.85  1406.22   \n",
       "\n",
       "      s5  ...     s12      s13      s14     s15   s16  s17   s18    s19  \\\n",
       "0  14.62  ...  521.66  2388.02  8138.62  8.4195  0.03  392  2388  100.0   \n",
       "1  14.62  ...  522.28  2388.07  8131.49  8.4318  0.03  392  2388  100.0   \n",
       "2  14.62  ...  522.42  2388.03  8133.23  8.4178  0.03  390  2388  100.0   \n",
       "3  14.62  ...  522.86  2388.08  8133.83  8.3682  0.03  392  2388  100.0   \n",
       "4  14.62  ...  522.19  2388.04  8133.80  8.4294  0.03  393  2388  100.0   \n",
       "\n",
       "     s20      s21  \n",
       "0  39.06  23.4190  \n",
       "1  39.00  23.4236  \n",
       "2  38.95  23.3442  \n",
       "3  38.88  23.3739  \n",
       "4  38.90  23.4044  \n",
       "\n",
       "[5 rows x 26 columns]"
      ],
      "text/html": "<div>\n<style scoped>\n    .dataframe tbody tr th:only-of-type {\n        vertical-align: middle;\n    }\n\n    .dataframe tbody tr th {\n        vertical-align: top;\n    }\n\n    .dataframe thead th {\n        text-align: right;\n    }\n</style>\n<table border=\"1\" class=\"dataframe\">\n  <thead>\n    <tr style=\"text-align: right;\">\n      <th></th>\n      <th>id</th>\n      <th>cycle</th>\n      <th>setting1</th>\n      <th>setting2</th>\n      <th>setting3</th>\n      <th>s1</th>\n      <th>s2</th>\n      <th>s3</th>\n      <th>s4</th>\n      <th>s5</th>\n      <th>...</th>\n      <th>s12</th>\n      <th>s13</th>\n      <th>s14</th>\n      <th>s15</th>\n      <th>s16</th>\n      <th>s17</th>\n      <th>s18</th>\n      <th>s19</th>\n      <th>s20</th>\n      <th>s21</th>\n    </tr>\n  </thead>\n  <tbody>\n    <tr>\n      <td>0</td>\n      <td>1</td>\n      <td>1</td>\n      <td>-0.0007</td>\n      <td>-0.0004</td>\n      <td>100.0</td>\n      <td>518.67</td>\n      <td>641.82</td>\n      <td>1589.70</td>\n      <td>1400.60</td>\n      <td>14.62</td>\n      <td>...</td>\n      <td>521.66</td>\n      <td>2388.02</td>\n      <td>8138.62</td>\n      <td>8.4195</td>\n      <td>0.03</td>\n      <td>392</td>\n      <td>2388</td>\n      <td>100.0</td>\n      <td>39.06</td>\n      <td>23.4190</td>\n    </tr>\n    <tr>\n      <td>1</td>\n      <td>1</td>\n      <td>2</td>\n      <td>0.0019</td>\n      <td>-0.0003</td>\n      <td>100.0</td>\n      <td>518.67</td>\n      <td>642.15</td>\n      <td>1591.82</td>\n      <td>1403.14</td>\n      <td>14.62</td>\n      <td>...</td>\n      <td>522.28</td>\n      <td>2388.07</td>\n      <td>8131.49</td>\n      <td>8.4318</td>\n      <td>0.03</td>\n      <td>392</td>\n      <td>2388</td>\n      <td>100.0</td>\n      <td>39.00</td>\n      <td>23.4236</td>\n    </tr>\n    <tr>\n      <td>2</td>\n      <td>1</td>\n      <td>3</td>\n      <td>-0.0043</td>\n      <td>0.0003</td>\n      <td>100.0</td>\n      <td>518.67</td>\n      <td>642.35</td>\n      <td>1587.99</td>\n      <td>1404.20</td>\n      <td>14.62</td>\n      <td>...</td>\n      <td>522.42</td>\n      <td>2388.03</td>\n      <td>8133.23</td>\n      <td>8.4178</td>\n      <td>0.03</td>\n      <td>390</td>\n      <td>2388</td>\n      <td>100.0</td>\n      <td>38.95</td>\n      <td>23.3442</td>\n    </tr>\n    <tr>\n      <td>3</td>\n      <td>1</td>\n      <td>4</td>\n      <td>0.0007</td>\n      <td>0.0000</td>\n      <td>100.0</td>\n      <td>518.67</td>\n      <td>642.35</td>\n      <td>1582.79</td>\n      <td>1401.87</td>\n      <td>14.62</td>\n      <td>...</td>\n      <td>522.86</td>\n      <td>2388.08</td>\n      <td>8133.83</td>\n      <td>8.3682</td>\n      <td>0.03</td>\n      <td>392</td>\n      <td>2388</td>\n      <td>100.0</td>\n      <td>38.88</td>\n      <td>23.3739</td>\n    </tr>\n    <tr>\n      <td>4</td>\n      <td>1</td>\n      <td>5</td>\n      <td>-0.0019</td>\n      <td>-0.0002</td>\n      <td>100.0</td>\n      <td>518.67</td>\n      <td>642.37</td>\n      <td>1582.85</td>\n      <td>1406.22</td>\n      <td>14.62</td>\n      <td>...</td>\n      <td>522.19</td>\n      <td>2388.04</td>\n      <td>8133.80</td>\n      <td>8.4294</td>\n      <td>0.03</td>\n      <td>393</td>\n      <td>2388</td>\n      <td>100.0</td>\n      <td>38.90</td>\n      <td>23.4044</td>\n    </tr>\n  </tbody>\n</table>\n<p>5 rows × 26 columns</p>\n</div>"
     },
     "metadata": {},
     "execution_count": 3
    }
   ],
   "source": [
    "dataset_train=pd.read_csv('./input/PM_train.txt',sep=' ',header=None).drop([26,27],axis=1)\n",
    "col_names = ['id','cycle','setting1','setting2','setting3','s1','s2','s3','s4','s5','s6','s7','s8','s9','s10','s11','s12','s13','s14','s15','s16','s17','s18','s19','s20','s21']\n",
    "dataset_train.columns=col_names\n",
    "print('Shape of Train dataset: ',dataset_train.shape)\n",
    "dataset_train.head()"
   ]
  },
  {
   "cell_type": "code",
   "execution_count": 4,
   "metadata": {},
   "outputs": [
    {
     "output_type": "stream",
     "name": "stdout",
     "text": [
      "Shape of Test dataset:  (20631, 26)\n"
     ]
    },
    {
     "output_type": "execute_result",
     "data": {
      "text/plain": [
       "   id  cycle  setting1  setting2  setting3      s1      s2       s3       s4  \\\n",
       "0   1      1   -0.0007   -0.0004     100.0  518.67  641.82  1589.70  1400.60   \n",
       "1   1      2    0.0019   -0.0003     100.0  518.67  642.15  1591.82  1403.14   \n",
       "2   1      3   -0.0043    0.0003     100.0  518.67  642.35  1587.99  1404.20   \n",
       "3   1      4    0.0007    0.0000     100.0  518.67  642.35  1582.79  1401.87   \n",
       "4   1      5   -0.0019   -0.0002     100.0  518.67  642.37  1582.85  1406.22   \n",
       "\n",
       "      s5  ...     s12      s13      s14     s15   s16  s17   s18    s19  \\\n",
       "0  14.62  ...  521.66  2388.02  8138.62  8.4195  0.03  392  2388  100.0   \n",
       "1  14.62  ...  522.28  2388.07  8131.49  8.4318  0.03  392  2388  100.0   \n",
       "2  14.62  ...  522.42  2388.03  8133.23  8.4178  0.03  390  2388  100.0   \n",
       "3  14.62  ...  522.86  2388.08  8133.83  8.3682  0.03  392  2388  100.0   \n",
       "4  14.62  ...  522.19  2388.04  8133.80  8.4294  0.03  393  2388  100.0   \n",
       "\n",
       "     s20      s21  \n",
       "0  39.06  23.4190  \n",
       "1  39.00  23.4236  \n",
       "2  38.95  23.3442  \n",
       "3  38.88  23.3739  \n",
       "4  38.90  23.4044  \n",
       "\n",
       "[5 rows x 26 columns]"
      ],
      "text/html": "<div>\n<style scoped>\n    .dataframe tbody tr th:only-of-type {\n        vertical-align: middle;\n    }\n\n    .dataframe tbody tr th {\n        vertical-align: top;\n    }\n\n    .dataframe thead th {\n        text-align: right;\n    }\n</style>\n<table border=\"1\" class=\"dataframe\">\n  <thead>\n    <tr style=\"text-align: right;\">\n      <th></th>\n      <th>id</th>\n      <th>cycle</th>\n      <th>setting1</th>\n      <th>setting2</th>\n      <th>setting3</th>\n      <th>s1</th>\n      <th>s2</th>\n      <th>s3</th>\n      <th>s4</th>\n      <th>s5</th>\n      <th>...</th>\n      <th>s12</th>\n      <th>s13</th>\n      <th>s14</th>\n      <th>s15</th>\n      <th>s16</th>\n      <th>s17</th>\n      <th>s18</th>\n      <th>s19</th>\n      <th>s20</th>\n      <th>s21</th>\n    </tr>\n  </thead>\n  <tbody>\n    <tr>\n      <td>0</td>\n      <td>1</td>\n      <td>1</td>\n      <td>-0.0007</td>\n      <td>-0.0004</td>\n      <td>100.0</td>\n      <td>518.67</td>\n      <td>641.82</td>\n      <td>1589.70</td>\n      <td>1400.60</td>\n      <td>14.62</td>\n      <td>...</td>\n      <td>521.66</td>\n      <td>2388.02</td>\n      <td>8138.62</td>\n      <td>8.4195</td>\n      <td>0.03</td>\n      <td>392</td>\n      <td>2388</td>\n      <td>100.0</td>\n      <td>39.06</td>\n      <td>23.4190</td>\n    </tr>\n    <tr>\n      <td>1</td>\n      <td>1</td>\n      <td>2</td>\n      <td>0.0019</td>\n      <td>-0.0003</td>\n      <td>100.0</td>\n      <td>518.67</td>\n      <td>642.15</td>\n      <td>1591.82</td>\n      <td>1403.14</td>\n      <td>14.62</td>\n      <td>...</td>\n      <td>522.28</td>\n      <td>2388.07</td>\n      <td>8131.49</td>\n      <td>8.4318</td>\n      <td>0.03</td>\n      <td>392</td>\n      <td>2388</td>\n      <td>100.0</td>\n      <td>39.00</td>\n      <td>23.4236</td>\n    </tr>\n    <tr>\n      <td>2</td>\n      <td>1</td>\n      <td>3</td>\n      <td>-0.0043</td>\n      <td>0.0003</td>\n      <td>100.0</td>\n      <td>518.67</td>\n      <td>642.35</td>\n      <td>1587.99</td>\n      <td>1404.20</td>\n      <td>14.62</td>\n      <td>...</td>\n      <td>522.42</td>\n      <td>2388.03</td>\n      <td>8133.23</td>\n      <td>8.4178</td>\n      <td>0.03</td>\n      <td>390</td>\n      <td>2388</td>\n      <td>100.0</td>\n      <td>38.95</td>\n      <td>23.3442</td>\n    </tr>\n    <tr>\n      <td>3</td>\n      <td>1</td>\n      <td>4</td>\n      <td>0.0007</td>\n      <td>0.0000</td>\n      <td>100.0</td>\n      <td>518.67</td>\n      <td>642.35</td>\n      <td>1582.79</td>\n      <td>1401.87</td>\n      <td>14.62</td>\n      <td>...</td>\n      <td>522.86</td>\n      <td>2388.08</td>\n      <td>8133.83</td>\n      <td>8.3682</td>\n      <td>0.03</td>\n      <td>392</td>\n      <td>2388</td>\n      <td>100.0</td>\n      <td>38.88</td>\n      <td>23.3739</td>\n    </tr>\n    <tr>\n      <td>4</td>\n      <td>1</td>\n      <td>5</td>\n      <td>-0.0019</td>\n      <td>-0.0002</td>\n      <td>100.0</td>\n      <td>518.67</td>\n      <td>642.37</td>\n      <td>1582.85</td>\n      <td>1406.22</td>\n      <td>14.62</td>\n      <td>...</td>\n      <td>522.19</td>\n      <td>2388.04</td>\n      <td>8133.80</td>\n      <td>8.4294</td>\n      <td>0.03</td>\n      <td>393</td>\n      <td>2388</td>\n      <td>100.0</td>\n      <td>38.90</td>\n      <td>23.4044</td>\n    </tr>\n  </tbody>\n</table>\n<p>5 rows × 26 columns</p>\n</div>"
     },
     "metadata": {},
     "execution_count": 4
    }
   ],
   "source": [
    "dataset_test=pd.read_csv('./input/PM_test.txt',sep=' ',header=None).drop([26,27],axis=1)\n",
    "dataset_test.columns=col_names\n",
    "#dataset_test.head()\n",
    "print('Shape of Test dataset: ',dataset_train.shape)\n",
    "dataset_train.head()"
   ]
  },
  {
   "cell_type": "code",
   "execution_count": 5,
   "metadata": {},
   "outputs": [
    {
     "output_type": "execute_result",
     "data": {
      "text/plain": [
       "   more  id\n",
       "0   112   1\n",
       "1    98   2\n",
       "2    69   3\n",
       "3    82   4\n",
       "4    91   5"
      ],
      "text/html": "<div>\n<style scoped>\n    .dataframe tbody tr th:only-of-type {\n        vertical-align: middle;\n    }\n\n    .dataframe tbody tr th {\n        vertical-align: top;\n    }\n\n    .dataframe thead th {\n        text-align: right;\n    }\n</style>\n<table border=\"1\" class=\"dataframe\">\n  <thead>\n    <tr style=\"text-align: right;\">\n      <th></th>\n      <th>more</th>\n      <th>id</th>\n    </tr>\n  </thead>\n  <tbody>\n    <tr>\n      <td>0</td>\n      <td>112</td>\n      <td>1</td>\n    </tr>\n    <tr>\n      <td>1</td>\n      <td>98</td>\n      <td>2</td>\n    </tr>\n    <tr>\n      <td>2</td>\n      <td>69</td>\n      <td>3</td>\n    </tr>\n    <tr>\n      <td>3</td>\n      <td>82</td>\n      <td>4</td>\n    </tr>\n    <tr>\n      <td>4</td>\n      <td>91</td>\n      <td>5</td>\n    </tr>\n  </tbody>\n</table>\n</div>"
     },
     "metadata": {},
     "execution_count": 5
    }
   ],
   "source": [
    "pm_truth=pd.read_csv('./input/PM_truth.txt',sep=' ',header=None).drop([1],axis=1)\n",
    "pm_truth.columns=['more'] #Die Spalte wird als More definiert (die Zeit die die Turbiene nach dem Test noch hätte laufen können)\n",
    "pm_truth['id']=pm_truth.index+1 #es wird zu jedem Test eine id (Laufvariable) hinzugefügt (shape jetzt = (100, 2))\n",
    "pm_truth.head()"
   ]
  },
  {
   "cell_type": "code",
   "execution_count": 6,
   "metadata": {},
   "outputs": [
    {
     "output_type": "execute_result",
     "data": {
      "text/plain": [
       "   id  max\n",
       "0   1   31\n",
       "1   2   49\n",
       "2   3  126\n",
       "3   4  106\n",
       "4   5   98"
      ],
      "text/html": "<div>\n<style scoped>\n    .dataframe tbody tr th:only-of-type {\n        vertical-align: middle;\n    }\n\n    .dataframe tbody tr th {\n        vertical-align: top;\n    }\n\n    .dataframe thead th {\n        text-align: right;\n    }\n</style>\n<table border=\"1\" class=\"dataframe\">\n  <thead>\n    <tr style=\"text-align: right;\">\n      <th></th>\n      <th>id</th>\n      <th>max</th>\n    </tr>\n  </thead>\n  <tbody>\n    <tr>\n      <td>0</td>\n      <td>1</td>\n      <td>31</td>\n    </tr>\n    <tr>\n      <td>1</td>\n      <td>2</td>\n      <td>49</td>\n    </tr>\n    <tr>\n      <td>2</td>\n      <td>3</td>\n      <td>126</td>\n    </tr>\n    <tr>\n      <td>3</td>\n      <td>4</td>\n      <td>106</td>\n    </tr>\n    <tr>\n      <td>4</td>\n      <td>5</td>\n      <td>98</td>\n    </tr>\n  </tbody>\n</table>\n</div>"
     },
     "metadata": {},
     "execution_count": 6
    }
   ],
   "source": [
    "# generate column max for test data\n",
    "rul = pd.DataFrame(dataset_test.groupby('id')['cycle'].max()).reset_index() #von jeder id (1...100) wird der Maximalwert gesucht\n",
    "rul.columns = ['id', 'max']\n",
    "rul.head()"
   ]
  },
  {
   "cell_type": "code",
   "execution_count": 7,
   "metadata": {},
   "outputs": [
    {
     "output_type": "execute_result",
     "data": {
      "text/plain": [
       "   more  id  rtf\n",
       "0   112   1  143\n",
       "1    98   2  147\n",
       "2    69   3  195\n",
       "3    82   4  188\n",
       "4    91   5  189"
      ],
      "text/html": "<div>\n<style scoped>\n    .dataframe tbody tr th:only-of-type {\n        vertical-align: middle;\n    }\n\n    .dataframe tbody tr th {\n        vertical-align: top;\n    }\n\n    .dataframe thead th {\n        text-align: right;\n    }\n</style>\n<table border=\"1\" class=\"dataframe\">\n  <thead>\n    <tr style=\"text-align: right;\">\n      <th></th>\n      <th>more</th>\n      <th>id</th>\n      <th>rtf</th>\n    </tr>\n  </thead>\n  <tbody>\n    <tr>\n      <td>0</td>\n      <td>112</td>\n      <td>1</td>\n      <td>143</td>\n    </tr>\n    <tr>\n      <td>1</td>\n      <td>98</td>\n      <td>2</td>\n      <td>147</td>\n    </tr>\n    <tr>\n      <td>2</td>\n      <td>69</td>\n      <td>3</td>\n      <td>195</td>\n    </tr>\n    <tr>\n      <td>3</td>\n      <td>82</td>\n      <td>4</td>\n      <td>188</td>\n    </tr>\n    <tr>\n      <td>4</td>\n      <td>91</td>\n      <td>5</td>\n      <td>189</td>\n    </tr>\n  </tbody>\n</table>\n</div>"
     },
     "metadata": {},
     "execution_count": 7
    }
   ],
   "source": [
    "# run to failure\n",
    "pm_truth['rtf']=pm_truth['more']+rul['max'] \n",
    "pm_truth.head()"
   ]
  },
  {
   "cell_type": "code",
   "execution_count": 8,
   "metadata": {},
   "outputs": [
    {
     "output_type": "execute_result",
     "data": {
      "text/plain": [
       "   id  cycle  setting1  setting2  setting3      s1      s2       s3       s4  \\\n",
       "0   1      1    0.0023    0.0003     100.0  518.67  643.02  1585.29  1398.21   \n",
       "1   1      2   -0.0027   -0.0003     100.0  518.67  641.71  1588.45  1395.42   \n",
       "2   1      3    0.0003    0.0001     100.0  518.67  642.46  1586.94  1401.34   \n",
       "3   1      4    0.0042    0.0000     100.0  518.67  642.44  1584.12  1406.42   \n",
       "4   1      5    0.0014    0.0000     100.0  518.67  642.51  1587.19  1401.92   \n",
       "\n",
       "      s5  ...      s13      s14     s15   s16  s17   s18    s19    s20  \\\n",
       "0  14.62  ...  2388.03  8125.55  8.4052  0.03  392  2388  100.0  38.86   \n",
       "1  14.62  ...  2388.06  8139.62  8.3803  0.03  393  2388  100.0  39.02   \n",
       "2  14.62  ...  2388.03  8130.10  8.4441  0.03  393  2388  100.0  39.08   \n",
       "3  14.62  ...  2388.05  8132.90  8.3917  0.03  391  2388  100.0  39.00   \n",
       "4  14.62  ...  2388.03  8129.54  8.4031  0.03  390  2388  100.0  38.99   \n",
       "\n",
       "       s21  ttf  \n",
       "0  23.3735  142  \n",
       "1  23.3916  141  \n",
       "2  23.4166  140  \n",
       "3  23.3737  139  \n",
       "4  23.4130  138  \n",
       "\n",
       "[5 rows x 27 columns]"
      ],
      "text/html": "<div>\n<style scoped>\n    .dataframe tbody tr th:only-of-type {\n        vertical-align: middle;\n    }\n\n    .dataframe tbody tr th {\n        vertical-align: top;\n    }\n\n    .dataframe thead th {\n        text-align: right;\n    }\n</style>\n<table border=\"1\" class=\"dataframe\">\n  <thead>\n    <tr style=\"text-align: right;\">\n      <th></th>\n      <th>id</th>\n      <th>cycle</th>\n      <th>setting1</th>\n      <th>setting2</th>\n      <th>setting3</th>\n      <th>s1</th>\n      <th>s2</th>\n      <th>s3</th>\n      <th>s4</th>\n      <th>s5</th>\n      <th>...</th>\n      <th>s13</th>\n      <th>s14</th>\n      <th>s15</th>\n      <th>s16</th>\n      <th>s17</th>\n      <th>s18</th>\n      <th>s19</th>\n      <th>s20</th>\n      <th>s21</th>\n      <th>ttf</th>\n    </tr>\n  </thead>\n  <tbody>\n    <tr>\n      <td>0</td>\n      <td>1</td>\n      <td>1</td>\n      <td>0.0023</td>\n      <td>0.0003</td>\n      <td>100.0</td>\n      <td>518.67</td>\n      <td>643.02</td>\n      <td>1585.29</td>\n      <td>1398.21</td>\n      <td>14.62</td>\n      <td>...</td>\n      <td>2388.03</td>\n      <td>8125.55</td>\n      <td>8.4052</td>\n      <td>0.03</td>\n      <td>392</td>\n      <td>2388</td>\n      <td>100.0</td>\n      <td>38.86</td>\n      <td>23.3735</td>\n      <td>142</td>\n    </tr>\n    <tr>\n      <td>1</td>\n      <td>1</td>\n      <td>2</td>\n      <td>-0.0027</td>\n      <td>-0.0003</td>\n      <td>100.0</td>\n      <td>518.67</td>\n      <td>641.71</td>\n      <td>1588.45</td>\n      <td>1395.42</td>\n      <td>14.62</td>\n      <td>...</td>\n      <td>2388.06</td>\n      <td>8139.62</td>\n      <td>8.3803</td>\n      <td>0.03</td>\n      <td>393</td>\n      <td>2388</td>\n      <td>100.0</td>\n      <td>39.02</td>\n      <td>23.3916</td>\n      <td>141</td>\n    </tr>\n    <tr>\n      <td>2</td>\n      <td>1</td>\n      <td>3</td>\n      <td>0.0003</td>\n      <td>0.0001</td>\n      <td>100.0</td>\n      <td>518.67</td>\n      <td>642.46</td>\n      <td>1586.94</td>\n      <td>1401.34</td>\n      <td>14.62</td>\n      <td>...</td>\n      <td>2388.03</td>\n      <td>8130.10</td>\n      <td>8.4441</td>\n      <td>0.03</td>\n      <td>393</td>\n      <td>2388</td>\n      <td>100.0</td>\n      <td>39.08</td>\n      <td>23.4166</td>\n      <td>140</td>\n    </tr>\n    <tr>\n      <td>3</td>\n      <td>1</td>\n      <td>4</td>\n      <td>0.0042</td>\n      <td>0.0000</td>\n      <td>100.0</td>\n      <td>518.67</td>\n      <td>642.44</td>\n      <td>1584.12</td>\n      <td>1406.42</td>\n      <td>14.62</td>\n      <td>...</td>\n      <td>2388.05</td>\n      <td>8132.90</td>\n      <td>8.3917</td>\n      <td>0.03</td>\n      <td>391</td>\n      <td>2388</td>\n      <td>100.0</td>\n      <td>39.00</td>\n      <td>23.3737</td>\n      <td>139</td>\n    </tr>\n    <tr>\n      <td>4</td>\n      <td>1</td>\n      <td>5</td>\n      <td>0.0014</td>\n      <td>0.0000</td>\n      <td>100.0</td>\n      <td>518.67</td>\n      <td>642.51</td>\n      <td>1587.19</td>\n      <td>1401.92</td>\n      <td>14.62</td>\n      <td>...</td>\n      <td>2388.03</td>\n      <td>8129.54</td>\n      <td>8.4031</td>\n      <td>0.03</td>\n      <td>390</td>\n      <td>2388</td>\n      <td>100.0</td>\n      <td>38.99</td>\n      <td>23.4130</td>\n      <td>138</td>\n    </tr>\n  </tbody>\n</table>\n<p>5 rows × 27 columns</p>\n</div>"
     },
     "metadata": {},
     "execution_count": 8
    }
   ],
   "source": [
    "pm_truth.drop('more', axis=1, inplace=True)\n",
    "\n",
    "dataset_test=dataset_test.merge(pm_truth,on=['id'],how='left') #die \"run till falure\" (rtf) wird der entsprechenden id hinzugefügt\n",
    "dataset_test['ttf']=dataset_test['rtf'] - dataset_test['cycle'] #aus der rtf wird die \"time till falilure\" (ttf) berechent\n",
    "dataset_test.drop('rtf', axis=1, inplace=True) #die rtf wird wieder herausgeworfen\n",
    "dataset_test.head()"
   ]
  },
  {
   "cell_type": "code",
   "execution_count": 9,
   "metadata": {},
   "outputs": [
    {
     "output_type": "execute_result",
     "data": {
      "text/plain": [
       "   id  cycle  setting1  setting2  setting3      s1      s2       s3       s4  \\\n",
       "0   1      1   -0.0007   -0.0004     100.0  518.67  641.82  1589.70  1400.60   \n",
       "1   1      2    0.0019   -0.0003     100.0  518.67  642.15  1591.82  1403.14   \n",
       "2   1      3   -0.0043    0.0003     100.0  518.67  642.35  1587.99  1404.20   \n",
       "3   1      4    0.0007    0.0000     100.0  518.67  642.35  1582.79  1401.87   \n",
       "4   1      5   -0.0019   -0.0002     100.0  518.67  642.37  1582.85  1406.22   \n",
       "\n",
       "      s5  ...      s13      s14     s15   s16  s17   s18    s19    s20  \\\n",
       "0  14.62  ...  2388.02  8138.62  8.4195  0.03  392  2388  100.0  39.06   \n",
       "1  14.62  ...  2388.07  8131.49  8.4318  0.03  392  2388  100.0  39.00   \n",
       "2  14.62  ...  2388.03  8133.23  8.4178  0.03  390  2388  100.0  38.95   \n",
       "3  14.62  ...  2388.08  8133.83  8.3682  0.03  392  2388  100.0  38.88   \n",
       "4  14.62  ...  2388.04  8133.80  8.4294  0.03  393  2388  100.0  38.90   \n",
       "\n",
       "       s21  ttf  \n",
       "0  23.4190  191  \n",
       "1  23.4236  190  \n",
       "2  23.3442  189  \n",
       "3  23.3739  188  \n",
       "4  23.4044  187  \n",
       "\n",
       "[5 rows x 27 columns]"
      ],
      "text/html": "<div>\n<style scoped>\n    .dataframe tbody tr th:only-of-type {\n        vertical-align: middle;\n    }\n\n    .dataframe tbody tr th {\n        vertical-align: top;\n    }\n\n    .dataframe thead th {\n        text-align: right;\n    }\n</style>\n<table border=\"1\" class=\"dataframe\">\n  <thead>\n    <tr style=\"text-align: right;\">\n      <th></th>\n      <th>id</th>\n      <th>cycle</th>\n      <th>setting1</th>\n      <th>setting2</th>\n      <th>setting3</th>\n      <th>s1</th>\n      <th>s2</th>\n      <th>s3</th>\n      <th>s4</th>\n      <th>s5</th>\n      <th>...</th>\n      <th>s13</th>\n      <th>s14</th>\n      <th>s15</th>\n      <th>s16</th>\n      <th>s17</th>\n      <th>s18</th>\n      <th>s19</th>\n      <th>s20</th>\n      <th>s21</th>\n      <th>ttf</th>\n    </tr>\n  </thead>\n  <tbody>\n    <tr>\n      <td>0</td>\n      <td>1</td>\n      <td>1</td>\n      <td>-0.0007</td>\n      <td>-0.0004</td>\n      <td>100.0</td>\n      <td>518.67</td>\n      <td>641.82</td>\n      <td>1589.70</td>\n      <td>1400.60</td>\n      <td>14.62</td>\n      <td>...</td>\n      <td>2388.02</td>\n      <td>8138.62</td>\n      <td>8.4195</td>\n      <td>0.03</td>\n      <td>392</td>\n      <td>2388</td>\n      <td>100.0</td>\n      <td>39.06</td>\n      <td>23.4190</td>\n      <td>191</td>\n    </tr>\n    <tr>\n      <td>1</td>\n      <td>1</td>\n      <td>2</td>\n      <td>0.0019</td>\n      <td>-0.0003</td>\n      <td>100.0</td>\n      <td>518.67</td>\n      <td>642.15</td>\n      <td>1591.82</td>\n      <td>1403.14</td>\n      <td>14.62</td>\n      <td>...</td>\n      <td>2388.07</td>\n      <td>8131.49</td>\n      <td>8.4318</td>\n      <td>0.03</td>\n      <td>392</td>\n      <td>2388</td>\n      <td>100.0</td>\n      <td>39.00</td>\n      <td>23.4236</td>\n      <td>190</td>\n    </tr>\n    <tr>\n      <td>2</td>\n      <td>1</td>\n      <td>3</td>\n      <td>-0.0043</td>\n      <td>0.0003</td>\n      <td>100.0</td>\n      <td>518.67</td>\n      <td>642.35</td>\n      <td>1587.99</td>\n      <td>1404.20</td>\n      <td>14.62</td>\n      <td>...</td>\n      <td>2388.03</td>\n      <td>8133.23</td>\n      <td>8.4178</td>\n      <td>0.03</td>\n      <td>390</td>\n      <td>2388</td>\n      <td>100.0</td>\n      <td>38.95</td>\n      <td>23.3442</td>\n      <td>189</td>\n    </tr>\n    <tr>\n      <td>3</td>\n      <td>1</td>\n      <td>4</td>\n      <td>0.0007</td>\n      <td>0.0000</td>\n      <td>100.0</td>\n      <td>518.67</td>\n      <td>642.35</td>\n      <td>1582.79</td>\n      <td>1401.87</td>\n      <td>14.62</td>\n      <td>...</td>\n      <td>2388.08</td>\n      <td>8133.83</td>\n      <td>8.3682</td>\n      <td>0.03</td>\n      <td>392</td>\n      <td>2388</td>\n      <td>100.0</td>\n      <td>38.88</td>\n      <td>23.3739</td>\n      <td>188</td>\n    </tr>\n    <tr>\n      <td>4</td>\n      <td>1</td>\n      <td>5</td>\n      <td>-0.0019</td>\n      <td>-0.0002</td>\n      <td>100.0</td>\n      <td>518.67</td>\n      <td>642.37</td>\n      <td>1582.85</td>\n      <td>1406.22</td>\n      <td>14.62</td>\n      <td>...</td>\n      <td>2388.04</td>\n      <td>8133.80</td>\n      <td>8.4294</td>\n      <td>0.03</td>\n      <td>393</td>\n      <td>2388</td>\n      <td>100.0</td>\n      <td>38.90</td>\n      <td>23.4044</td>\n      <td>187</td>\n    </tr>\n  </tbody>\n</table>\n<p>5 rows × 27 columns</p>\n</div>"
     },
     "metadata": {},
     "execution_count": 9
    }
   ],
   "source": [
    "dataset_train['ttf'] = dataset_train.groupby(['id'])['cycle'].transform(max)-dataset_train['cycle']\n",
    "dataset_train.head()"
   ]
  },
  {
   "cell_type": "code",
   "execution_count": 10,
   "metadata": {},
   "outputs": [
    {
     "output_type": "execute_result",
     "data": {
      "text/plain": [
       "      id  cycle  setting1  setting2  setting3      s1      s2       s3  \\\n",
       "0      1      1    0.0023    0.0003     100.0  518.67  643.02  1585.29   \n",
       "1      1      2   -0.0027   -0.0003     100.0  518.67  641.71  1588.45   \n",
       "2      1      3    0.0003    0.0001     100.0  518.67  642.46  1586.94   \n",
       "3      1      4    0.0042    0.0000     100.0  518.67  642.44  1584.12   \n",
       "4      1      5    0.0014    0.0000     100.0  518.67  642.51  1587.19   \n",
       "...   ..    ...       ...       ...       ...     ...     ...      ...   \n",
       "2430  20    180    0.0012   -0.0004     100.0  518.67  643.13  1598.52   \n",
       "2431  20    181    0.0007   -0.0004     100.0  518.67  643.74  1606.18   \n",
       "2432  20    182   -0.0008   -0.0005     100.0  518.67  643.54  1589.93   \n",
       "2433  20    183    0.0008    0.0003     100.0  518.67  643.33  1604.18   \n",
       "2434  20    184   -0.0006   -0.0004     100.0  518.67  643.75  1595.12   \n",
       "\n",
       "           s4     s5  ...      s14     s15   s16  s17   s18    s19    s20  \\\n",
       "0     1398.21  14.62  ...  8125.55  8.4052  0.03  392  2388  100.0  38.86   \n",
       "1     1395.42  14.62  ...  8139.62  8.3803  0.03  393  2388  100.0  39.02   \n",
       "2     1401.34  14.62  ...  8130.10  8.4441  0.03  393  2388  100.0  39.08   \n",
       "3     1406.42  14.62  ...  8132.90  8.3917  0.03  391  2388  100.0  39.00   \n",
       "4     1401.92  14.62  ...  8129.54  8.4031  0.03  390  2388  100.0  38.99   \n",
       "...       ...    ...  ...      ...     ...   ...  ...   ...    ...    ...   \n",
       "2430  1419.75  14.62  ...  8139.04  8.5414  0.03  394  2388  100.0  38.55   \n",
       "2431  1423.78  14.62  ...  8145.65  8.4790  0.03  395  2388  100.0  38.61   \n",
       "2432  1421.09  14.62  ...  8139.41  8.4677  0.03  396  2388  100.0  38.66   \n",
       "2433  1423.09  14.62  ...  8137.63  8.5354  0.03  397  2388  100.0  38.51   \n",
       "2434  1419.60  14.62  ...  8138.86  8.4690  0.03  395  2388  100.0  38.35   \n",
       "\n",
       "          s21  ttf  label_bc  \n",
       "0     23.3735  142         0  \n",
       "1     23.3916  141         0  \n",
       "2     23.4166  140         0  \n",
       "3     23.3737  139         0  \n",
       "4     23.4130  138         0  \n",
       "...       ...  ...       ...  \n",
       "2430  23.1112   20         1  \n",
       "2431  23.2107   19         1  \n",
       "2432  23.1186   18         1  \n",
       "2433  23.1460   17         1  \n",
       "2434  23.0242   16         1  \n",
       "\n",
       "[2435 rows x 28 columns]"
      ],
      "text/html": "<div>\n<style scoped>\n    .dataframe tbody tr th:only-of-type {\n        vertical-align: middle;\n    }\n\n    .dataframe tbody tr th {\n        vertical-align: top;\n    }\n\n    .dataframe thead th {\n        text-align: right;\n    }\n</style>\n<table border=\"1\" class=\"dataframe\">\n  <thead>\n    <tr style=\"text-align: right;\">\n      <th></th>\n      <th>id</th>\n      <th>cycle</th>\n      <th>setting1</th>\n      <th>setting2</th>\n      <th>setting3</th>\n      <th>s1</th>\n      <th>s2</th>\n      <th>s3</th>\n      <th>s4</th>\n      <th>s5</th>\n      <th>...</th>\n      <th>s14</th>\n      <th>s15</th>\n      <th>s16</th>\n      <th>s17</th>\n      <th>s18</th>\n      <th>s19</th>\n      <th>s20</th>\n      <th>s21</th>\n      <th>ttf</th>\n      <th>label_bc</th>\n    </tr>\n  </thead>\n  <tbody>\n    <tr>\n      <td>0</td>\n      <td>1</td>\n      <td>1</td>\n      <td>0.0023</td>\n      <td>0.0003</td>\n      <td>100.0</td>\n      <td>518.67</td>\n      <td>643.02</td>\n      <td>1585.29</td>\n      <td>1398.21</td>\n      <td>14.62</td>\n      <td>...</td>\n      <td>8125.55</td>\n      <td>8.4052</td>\n      <td>0.03</td>\n      <td>392</td>\n      <td>2388</td>\n      <td>100.0</td>\n      <td>38.86</td>\n      <td>23.3735</td>\n      <td>142</td>\n      <td>0</td>\n    </tr>\n    <tr>\n      <td>1</td>\n      <td>1</td>\n      <td>2</td>\n      <td>-0.0027</td>\n      <td>-0.0003</td>\n      <td>100.0</td>\n      <td>518.67</td>\n      <td>641.71</td>\n      <td>1588.45</td>\n      <td>1395.42</td>\n      <td>14.62</td>\n      <td>...</td>\n      <td>8139.62</td>\n      <td>8.3803</td>\n      <td>0.03</td>\n      <td>393</td>\n      <td>2388</td>\n      <td>100.0</td>\n      <td>39.02</td>\n      <td>23.3916</td>\n      <td>141</td>\n      <td>0</td>\n    </tr>\n    <tr>\n      <td>2</td>\n      <td>1</td>\n      <td>3</td>\n      <td>0.0003</td>\n      <td>0.0001</td>\n      <td>100.0</td>\n      <td>518.67</td>\n      <td>642.46</td>\n      <td>1586.94</td>\n      <td>1401.34</td>\n      <td>14.62</td>\n      <td>...</td>\n      <td>8130.10</td>\n      <td>8.4441</td>\n      <td>0.03</td>\n      <td>393</td>\n      <td>2388</td>\n      <td>100.0</td>\n      <td>39.08</td>\n      <td>23.4166</td>\n      <td>140</td>\n      <td>0</td>\n    </tr>\n    <tr>\n      <td>3</td>\n      <td>1</td>\n      <td>4</td>\n      <td>0.0042</td>\n      <td>0.0000</td>\n      <td>100.0</td>\n      <td>518.67</td>\n      <td>642.44</td>\n      <td>1584.12</td>\n      <td>1406.42</td>\n      <td>14.62</td>\n      <td>...</td>\n      <td>8132.90</td>\n      <td>8.3917</td>\n      <td>0.03</td>\n      <td>391</td>\n      <td>2388</td>\n      <td>100.0</td>\n      <td>39.00</td>\n      <td>23.3737</td>\n      <td>139</td>\n      <td>0</td>\n    </tr>\n    <tr>\n      <td>4</td>\n      <td>1</td>\n      <td>5</td>\n      <td>0.0014</td>\n      <td>0.0000</td>\n      <td>100.0</td>\n      <td>518.67</td>\n      <td>642.51</td>\n      <td>1587.19</td>\n      <td>1401.92</td>\n      <td>14.62</td>\n      <td>...</td>\n      <td>8129.54</td>\n      <td>8.4031</td>\n      <td>0.03</td>\n      <td>390</td>\n      <td>2388</td>\n      <td>100.0</td>\n      <td>38.99</td>\n      <td>23.4130</td>\n      <td>138</td>\n      <td>0</td>\n    </tr>\n    <tr>\n      <td>...</td>\n      <td>...</td>\n      <td>...</td>\n      <td>...</td>\n      <td>...</td>\n      <td>...</td>\n      <td>...</td>\n      <td>...</td>\n      <td>...</td>\n      <td>...</td>\n      <td>...</td>\n      <td>...</td>\n      <td>...</td>\n      <td>...</td>\n      <td>...</td>\n      <td>...</td>\n      <td>...</td>\n      <td>...</td>\n      <td>...</td>\n      <td>...</td>\n      <td>...</td>\n      <td>...</td>\n    </tr>\n    <tr>\n      <td>2430</td>\n      <td>20</td>\n      <td>180</td>\n      <td>0.0012</td>\n      <td>-0.0004</td>\n      <td>100.0</td>\n      <td>518.67</td>\n      <td>643.13</td>\n      <td>1598.52</td>\n      <td>1419.75</td>\n      <td>14.62</td>\n      <td>...</td>\n      <td>8139.04</td>\n      <td>8.5414</td>\n      <td>0.03</td>\n      <td>394</td>\n      <td>2388</td>\n      <td>100.0</td>\n      <td>38.55</td>\n      <td>23.1112</td>\n      <td>20</td>\n      <td>1</td>\n    </tr>\n    <tr>\n      <td>2431</td>\n      <td>20</td>\n      <td>181</td>\n      <td>0.0007</td>\n      <td>-0.0004</td>\n      <td>100.0</td>\n      <td>518.67</td>\n      <td>643.74</td>\n      <td>1606.18</td>\n      <td>1423.78</td>\n      <td>14.62</td>\n      <td>...</td>\n      <td>8145.65</td>\n      <td>8.4790</td>\n      <td>0.03</td>\n      <td>395</td>\n      <td>2388</td>\n      <td>100.0</td>\n      <td>38.61</td>\n      <td>23.2107</td>\n      <td>19</td>\n      <td>1</td>\n    </tr>\n    <tr>\n      <td>2432</td>\n      <td>20</td>\n      <td>182</td>\n      <td>-0.0008</td>\n      <td>-0.0005</td>\n      <td>100.0</td>\n      <td>518.67</td>\n      <td>643.54</td>\n      <td>1589.93</td>\n      <td>1421.09</td>\n      <td>14.62</td>\n      <td>...</td>\n      <td>8139.41</td>\n      <td>8.4677</td>\n      <td>0.03</td>\n      <td>396</td>\n      <td>2388</td>\n      <td>100.0</td>\n      <td>38.66</td>\n      <td>23.1186</td>\n      <td>18</td>\n      <td>1</td>\n    </tr>\n    <tr>\n      <td>2433</td>\n      <td>20</td>\n      <td>183</td>\n      <td>0.0008</td>\n      <td>0.0003</td>\n      <td>100.0</td>\n      <td>518.67</td>\n      <td>643.33</td>\n      <td>1604.18</td>\n      <td>1423.09</td>\n      <td>14.62</td>\n      <td>...</td>\n      <td>8137.63</td>\n      <td>8.5354</td>\n      <td>0.03</td>\n      <td>397</td>\n      <td>2388</td>\n      <td>100.0</td>\n      <td>38.51</td>\n      <td>23.1460</td>\n      <td>17</td>\n      <td>1</td>\n    </tr>\n    <tr>\n      <td>2434</td>\n      <td>20</td>\n      <td>184</td>\n      <td>-0.0006</td>\n      <td>-0.0004</td>\n      <td>100.0</td>\n      <td>518.67</td>\n      <td>643.75</td>\n      <td>1595.12</td>\n      <td>1419.60</td>\n      <td>14.62</td>\n      <td>...</td>\n      <td>8138.86</td>\n      <td>8.4690</td>\n      <td>0.03</td>\n      <td>395</td>\n      <td>2388</td>\n      <td>100.0</td>\n      <td>38.35</td>\n      <td>23.0242</td>\n      <td>16</td>\n      <td>1</td>\n    </tr>\n  </tbody>\n</table>\n<p>2435 rows × 28 columns</p>\n</div>"
     },
     "metadata": {},
     "execution_count": 10
    }
   ],
   "source": [
    "df_train=dataset_train.copy()\n",
    "df_test=dataset_test.copy()\n",
    "period=30\n",
    "df_train['label_bc'] = df_train['ttf'].apply(lambda y: 1 if y <= period else 0)\n",
    "df_test['label_bc'] = df_test['ttf'].apply(lambda y: 1 if y <= period else 0) #same\n",
    "df_test.head(2435)"
   ]
  },
  {
   "cell_type": "code",
   "execution_count": 11,
   "metadata": {},
   "outputs": [],
   "source": [
    "features_col_name=['setting1', 'setting2', 'setting3', 's1', 's2', 's3', 's4', 's5', 's6', 's7', 's8', 's9', 's10', 's11',\n",
    "                   's12', 's13', 's14', 's15', 's16', 's17', 's18', 's19', 's20', 's21']\n",
    "target_col_name='label_bc'"
   ]
  },
  {
   "cell_type": "code",
   "execution_count": 12,
   "metadata": {},
   "outputs": [
    {
     "output_type": "execute_result",
     "data": {
      "text/plain": [
       "(20631, 28)"
      ]
     },
     "metadata": {},
     "execution_count": 12
    }
   ],
   "source": [
    "sc=MinMaxScaler()\n",
    "df_train[features_col_name]=sc.fit_transform(df_train[features_col_name])\n",
    "df_test[features_col_name]=sc.transform(df_test[features_col_name])\n",
    "shape(df_train)"
   ]
  },
  {
   "cell_type": "code",
   "execution_count": 16,
   "metadata": {},
   "outputs": [
    {
     "output_type": "execute_result",
     "data": {
      "text/plain": [
       "0    0\n",
       "1    0\n",
       "2    0\n",
       "3    0\n",
       "4    0\n",
       "Name: label_bc, dtype: int64"
      ]
     },
     "metadata": {},
     "execution_count": 16
    }
   ],
   "source": [
    "# generate X_train (keine)\n",
    "X_train = df_train[features_col_name]\n",
    "\n",
    "# generate y_train\n",
    "Y_train= df_train[target_col_name]\n",
    "\n",
    "# generate X_test\n",
    "X_test = df_test[features_col_name]\n",
    "\n",
    "# generate y_test\n",
    "Y_test = df_test[target_col_name]\n",
    "df_train[features_col_name].head()\n",
    "df_train[target_col_name].head()\n",
    "df_test[features_col_name].head()\n",
    "df_test[target_col_name].head()"
   ]
  },
  {
   "cell_type": "markdown",
   "metadata": {},
   "source": [
    "# feature enginering"
   ]
  },
  {
   "cell_type": "code",
   "execution_count": null,
   "metadata": {},
   "outputs": [],
   "source": []
  },
  {
   "cell_type": "markdown",
   "metadata": {},
   "source": [
    "# knn Model"
   ]
  },
  {
   "cell_type": "code",
   "execution_count": 224,
   "metadata": {},
   "outputs": [],
   "source": [
    "array = zeros(50)\n",
    "\n",
    "for i in range (1, array.shape[0]):\n",
    "    logreg = LogisticRegression(C=i).fit(X_train, Y_train) # C: Unregelmädigkeitsfaktor\n",
    "    array [i] = logreg.score(X_test, Y_test)"
   ]
  },
  {
   "cell_type": "code",
   "execution_count": 214,
   "metadata": {},
   "outputs": [
    {
     "data": {
      "image/png": "[encoded data removed]",
      "text/plain": [
       "<Figure size 432x288 with 1 Axes>"
      ]
     },
     "metadata": {
      "needs_background": "light"
     },
     "output_type": "display_data"
    }
   ],
   "source": [
    "# Unregelmäsigkeitsfaktor \"C\"\n",
    "C = arange(0, array.shape[0])\n",
    "plot(C[1:50], array[1:50])\n",
    "grid(True)\n",
    "# bei C = 4...8: höchste Genauigkeit"
   ]
  },
  {
   "cell_type": "code",
   "execution_count": 234,
   "metadata": {},
   "outputs": [
    {
     "name": "stdout",
     "output_type": "stream",
     "text": [
      "0.9860262675626146\n"
     ]
    }
   ],
   "source": [
    " logreg = LogisticRegression(C=6).fit(X_train, Y_train) # C: unregelmädigkeitsfaktor\n",
    "print(logreg.score(X_test, Y_test))"
   ]
  },
  {
   "cell_type": "code",
   "execution_count": 218,
   "metadata": {},
   "outputs": [
    {
     "name": "stdout",
     "output_type": "stream",
     "text": [
      "[0 0 0 ... 1 1 1]\n"
     ]
    }
   ],
   "source": [
    "prediction = logreg.predict(X_test)\n",
    "print(prediction)"
   ]
  },
  {
   "cell_type": "code",
   "execution_count": 219,
   "metadata": {},
   "outputs": [
    {
     "name": "stdout",
     "output_type": "stream",
     "text": [
      "Confusion Matrix: \n",
      " [[12719    45]\n",
      " [  134   198]]\n",
      "0.9863317043372022\n"
     ]
    }
   ],
   "source": [
    "confusion_matrix = confusion_matrix(Y_test, prediction)\n",
    "accuracy = (confusion_matrix[0,0]+confusion_matrix[1,1])/(confusion_matrix[0,0]+confusion_matrix[0,1]+confusion_matrix[1,0]+confusion_matrix[1,1])\n",
    "print('Confusion Matrix: \\n',confusion_matrix)\n",
    "print(accuracy)"
   ]
  },
  {
   "cell_type": "code",
   "execution_count": 230,
   "metadata": {},
   "outputs": [
    {
     "name": "stdout",
     "output_type": "stream",
     "text": [
      "[[12764     0]\n",
      " [    0   332]]\n"
     ]
    }
   ],
   "source": [
    "real = confusion_matrix = confusion_matrix(Y_test, Y_test)\n",
    "print(real)"
   ]
  },
  {
   "cell_type": "code",
   "execution_count": 221,
   "metadata": {},
   "outputs": [
    {
     "data": {
      "image/png": "[encoded data removed]",
      "text/plain": [
       "<Figure size 432x288 with 1 Axes>"
      ]
     },
     "metadata": {
      "needs_background": "light"
     },
     "output_type": "display_data"
    }
   ],
   "source": [
    "t = arange(0, prediction.shape[0])\n",
    "\n",
    "#Ausschnitt\n",
    "a = 2910\n",
    "e = 2950\n",
    "\n",
    "plot(t[a:e], prediction[a:e])\n",
    "#plot(t[a:e], (prediction[a:e] - Y_test[a:e])) #Falsch Positiv = 1, Flasch Negativ = -1\n",
    "plot(t[a:e], Y_test[a:e], 'r')\n",
    "grid(True)"
   ]
  }
 ],
 "metadata": {
  "kernelspec": {
   "display_name": "Python 3",
   "language": "python",
   "name": "python3"
  },
  "language_info": {
   "codemirror_mode": {
    "name": "ipython",
    "version": 3
   },
   "file_extension": ".py",
   "mimetype": "text/x-python",
   "name": "python",
   "nbconvert_exporter": "python",
   "pygments_lexer": "ipython3",
   "version": "3.7.4-final"
  }
 },
 "nbformat": 4,
 "nbformat_minor": 4
}