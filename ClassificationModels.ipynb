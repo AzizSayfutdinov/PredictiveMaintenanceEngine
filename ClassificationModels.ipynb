{
 "metadata": {
  "language_info": {
   "codemirror_mode": {
    "name": "ipython",
    "version": 3
   },
   "file_extension": ".py",
   "mimetype": "text/x-python",
   "name": "python",
   "nbconvert_exporter": "python",
   "pygments_lexer": "ipython3",
   "version": "3.7.4-final"
  },
  "orig_nbformat": 2,
  "kernelspec": {
   "name": "python3",
   "display_name": "Python 3",
   "language": "python"
  }
 },
 "nbformat": 4,
 "nbformat_minor": 2,
 "cells": [
  {
   "source": [
    "# Predictive maintenance with classification models"
   ],
   "cell_type": "markdown",
   "metadata": {}
  },
  {
   "cell_type": "code",
   "execution_count": 31,
   "metadata": {},
   "outputs": [],
   "source": [
    "import pandas as pd\n",
    "import numpy as np\n",
    "import seaborn as sns\n",
    "import matplotlib.pyplot as plt\n",
    "%matplotlib inline\n",
    "\n",
    "from sklearn.preprocessing import MinMaxScaler\n",
    "from sklearn.metrics import accuracy_score, confusion_matrix\n",
    "from sklearn.neighbors import KNeighborsClassifier\n",
    "from keras.models import Sequential\n",
    "from keras.layers import Dense, Dropout, LSTM, Activation\n",
    "from sklearn.ensemble import RandomForestClassifier\n",
    "\n",
    "from timeit import default_timer as timer   # for measuring computation time\n",
    "from pympler import asizeof                 # for measuring ML object size\n",
    "\n",
    "# import self defined functions\n",
    "from add_remaining_useful_life import add_remaining_useful_life"
   ]
  },
  {
   "cell_type": "code",
   "execution_count": 32,
   "metadata": {},
   "outputs": [
    {
     "output_type": "stream",
     "name": "stdout",
     "text": [
      "(20631, 26)\n"
     ]
    }
   ],
   "source": [
    "dir_path = './input/'\n",
    "train_file = 'PM_train.txt'\n",
    "train_location = dir_path + train_file\n",
    "test_file = 'PM_test.txt'\n",
    "test_location = dir_path + test_file\n",
    "truth_file = 'PM_truth.txt'\n",
    "truth_location = dir_path + truth_file\n",
    "\n",
    "index_names = ['id', 'cycle']\n",
    "setting_names = ['setting1', 'setting2', 'setting3']\n",
    "sensor_names = ['s{}'.format(i+1) for i in range(0, 21)]\n",
    "col_names = index_names + setting_names + sensor_names\n",
    "\n",
    "# read data\n",
    "train = pd.read_csv(train_location, sep='\\s+', header=None, names=col_names)    # s+ -> regex for spaces/tabs as spaces\n",
    "test = pd.read_csv(test_location, sep='\\s+', header=None, names=col_names)\n",
    "y_test = pd.read_csv(truth_location, sep='\\s+', header=None, names=['RUL'])\n",
    "\n",
    "print(train.shape)"
   ]
  },
  {
   "cell_type": "code",
   "execution_count": 33,
   "metadata": {},
   "outputs": [
    {
     "output_type": "execute_result",
     "data": {
      "text/plain": [
       "   id  cycle  RUL\n",
       "0   1      1  191\n",
       "1   1      2  190\n",
       "2   1      3  189\n",
       "3   1      4  188\n",
       "4   1      5  187"
      ],
      "text/html": "<div>\n<style scoped>\n    .dataframe tbody tr th:only-of-type {\n        vertical-align: middle;\n    }\n\n    .dataframe tbody tr th {\n        vertical-align: top;\n    }\n\n    .dataframe thead th {\n        text-align: right;\n    }\n</style>\n<table border=\"1\" class=\"dataframe\">\n  <thead>\n    <tr style=\"text-align: right;\">\n      <th></th>\n      <th>id</th>\n      <th>cycle</th>\n      <th>RUL</th>\n    </tr>\n  </thead>\n  <tbody>\n    <tr>\n      <td>0</td>\n      <td>1</td>\n      <td>1</td>\n      <td>191</td>\n    </tr>\n    <tr>\n      <td>1</td>\n      <td>1</td>\n      <td>2</td>\n      <td>190</td>\n    </tr>\n    <tr>\n      <td>2</td>\n      <td>1</td>\n      <td>3</td>\n      <td>189</td>\n    </tr>\n    <tr>\n      <td>3</td>\n      <td>1</td>\n      <td>4</td>\n      <td>188</td>\n    </tr>\n    <tr>\n      <td>4</td>\n      <td>1</td>\n      <td>5</td>\n      <td>187</td>\n    </tr>\n  </tbody>\n</table>\n</div>"
     },
     "metadata": {},
     "execution_count": 33
    }
   ],
   "source": [
    "# Computation of RUL\n",
    "train = add_remaining_useful_life(train)\n",
    "test = add_remaining_useful_life(test)\n",
    "train[index_names+['RUL']].head()"
   ]
  },
  {
   "cell_type": "code",
   "execution_count": 34,
   "metadata": {},
   "outputs": [],
   "source": [
    "# adjust RUL value by truth values\n",
    "for i in range(len(test)):\n",
    "    currentID = test['id'][i]\n",
    "    current_truth_value = y_test['RUL'][currentID - 1]\n",
    "    test['RUL'][i] = test['RUL'][i] + current_truth_value\n"
   ]
  },
  {
   "cell_type": "code",
   "execution_count": 35,
   "metadata": {},
   "outputs": [
    {
     "output_type": "execute_result",
     "data": {
      "text/plain": [
       "        id  cycle  setting1  setting2  setting3      s1      s2       s3  \\\n",
       "20626  100    196   -0.0004   -0.0003     100.0  518.67  643.49  1597.98   \n",
       "20627  100    197   -0.0016   -0.0005     100.0  518.67  643.54  1604.50   \n",
       "20628  100    198    0.0004    0.0000     100.0  518.67  643.42  1602.46   \n",
       "20629  100    199   -0.0011    0.0003     100.0  518.67  643.23  1605.26   \n",
       "20630  100    200   -0.0032   -0.0005     100.0  518.67  643.85  1600.38   \n",
       "\n",
       "            s4     s5  ...      s14     s15   s16  s17   s18    s19    s20  \\\n",
       "20626  1428.63  14.62  ...  8137.60  8.4956  0.03  397  2388  100.0  38.49   \n",
       "20627  1433.58  14.62  ...  8136.50  8.5139  0.03  395  2388  100.0  38.30   \n",
       "20628  1428.18  14.62  ...  8141.05  8.5646  0.03  398  2388  100.0  38.44   \n",
       "20629  1426.53  14.62  ...  8139.29  8.5389  0.03  395  2388  100.0  38.29   \n",
       "20630  1432.14  14.62  ...  8137.33  8.5036  0.03  396  2388  100.0  38.37   \n",
       "\n",
       "           s21  RUL  label_bc  \n",
       "20626  22.9735    4         1  \n",
       "20627  23.1594    3         1  \n",
       "20628  22.9333    2         1  \n",
       "20629  23.0640    1         1  \n",
       "20630  23.0522    0         1  \n",
       "\n",
       "[5 rows x 28 columns]"
      ],
      "text/html": "<div>\n<style scoped>\n    .dataframe tbody tr th:only-of-type {\n        vertical-align: middle;\n    }\n\n    .dataframe tbody tr th {\n        vertical-align: top;\n    }\n\n    .dataframe thead th {\n        text-align: right;\n    }\n</style>\n<table border=\"1\" class=\"dataframe\">\n  <thead>\n    <tr style=\"text-align: right;\">\n      <th></th>\n      <th>id</th>\n      <th>cycle</th>\n      <th>setting1</th>\n      <th>setting2</th>\n      <th>setting3</th>\n      <th>s1</th>\n      <th>s2</th>\n      <th>s3</th>\n      <th>s4</th>\n      <th>s5</th>\n      <th>...</th>\n      <th>s14</th>\n      <th>s15</th>\n      <th>s16</th>\n      <th>s17</th>\n      <th>s18</th>\n      <th>s19</th>\n      <th>s20</th>\n      <th>s21</th>\n      <th>RUL</th>\n      <th>label_bc</th>\n    </tr>\n  </thead>\n  <tbody>\n    <tr>\n      <td>20626</td>\n      <td>100</td>\n      <td>196</td>\n      <td>-0.0004</td>\n      <td>-0.0003</td>\n      <td>100.0</td>\n      <td>518.67</td>\n      <td>643.49</td>\n      <td>1597.98</td>\n      <td>1428.63</td>\n      <td>14.62</td>\n      <td>...</td>\n      <td>8137.60</td>\n      <td>8.4956</td>\n      <td>0.03</td>\n      <td>397</td>\n      <td>2388</td>\n      <td>100.0</td>\n      <td>38.49</td>\n      <td>22.9735</td>\n      <td>4</td>\n      <td>1</td>\n    </tr>\n    <tr>\n      <td>20627</td>\n      <td>100</td>\n      <td>197</td>\n      <td>-0.0016</td>\n      <td>-0.0005</td>\n      <td>100.0</td>\n      <td>518.67</td>\n      <td>643.54</td>\n      <td>1604.50</td>\n      <td>1433.58</td>\n      <td>14.62</td>\n      <td>...</td>\n      <td>8136.50</td>\n      <td>8.5139</td>\n      <td>0.03</td>\n      <td>395</td>\n      <td>2388</td>\n      <td>100.0</td>\n      <td>38.30</td>\n      <td>23.1594</td>\n      <td>3</td>\n      <td>1</td>\n    </tr>\n    <tr>\n      <td>20628</td>\n      <td>100</td>\n      <td>198</td>\n      <td>0.0004</td>\n      <td>0.0000</td>\n      <td>100.0</td>\n      <td>518.67</td>\n      <td>643.42</td>\n      <td>1602.46</td>\n      <td>1428.18</td>\n      <td>14.62</td>\n      <td>...</td>\n      <td>8141.05</td>\n      <td>8.5646</td>\n      <td>0.03</td>\n      <td>398</td>\n      <td>2388</td>\n      <td>100.0</td>\n      <td>38.44</td>\n      <td>22.9333</td>\n      <td>2</td>\n      <td>1</td>\n    </tr>\n    <tr>\n      <td>20629</td>\n      <td>100</td>\n      <td>199</td>\n      <td>-0.0011</td>\n      <td>0.0003</td>\n      <td>100.0</td>\n      <td>518.67</td>\n      <td>643.23</td>\n      <td>1605.26</td>\n      <td>1426.53</td>\n      <td>14.62</td>\n      <td>...</td>\n      <td>8139.29</td>\n      <td>8.5389</td>\n      <td>0.03</td>\n      <td>395</td>\n      <td>2388</td>\n      <td>100.0</td>\n      <td>38.29</td>\n      <td>23.0640</td>\n      <td>1</td>\n      <td>1</td>\n    </tr>\n    <tr>\n      <td>20630</td>\n      <td>100</td>\n      <td>200</td>\n      <td>-0.0032</td>\n      <td>-0.0005</td>\n      <td>100.0</td>\n      <td>518.67</td>\n      <td>643.85</td>\n      <td>1600.38</td>\n      <td>1432.14</td>\n      <td>14.62</td>\n      <td>...</td>\n      <td>8137.33</td>\n      <td>8.5036</td>\n      <td>0.03</td>\n      <td>396</td>\n      <td>2388</td>\n      <td>100.0</td>\n      <td>38.37</td>\n      <td>23.0522</td>\n      <td>0</td>\n      <td>1</td>\n    </tr>\n  </tbody>\n</table>\n<p>5 rows × 28 columns</p>\n</div>"
     },
     "metadata": {},
     "execution_count": 35
    }
   ],
   "source": [
    "# add TTL (time to failure) variable\n",
    "period = 30\n",
    "\n",
    "train['label_bc'] = train['RUL'].apply(lambda y: 1 if y <= period else 0)\n",
    "test['label_bc'] = test['RUL'].apply(lambda y: 1 if y <= period else 0) \n",
    "train.tail()"
   ]
  },
  {
   "cell_type": "code",
   "execution_count": 36,
   "metadata": {},
   "outputs": [
    {
     "output_type": "stream",
     "name": "stdout",
     "text": [
      "Training Features Shape: (20631, 21)\nTraining Labels Shape: (20631,)\nTesting Features Shape: (13096, 21)\nTesting Labels Shape: (13096,)\n"
     ]
    },
    {
     "output_type": "execute_result",
     "data": {
      "text/plain": [
       "0    0\n",
       "1    0\n",
       "2    0\n",
       "3    0\n",
       "4    0\n",
       "Name: label_bc, dtype: int64"
      ]
     },
     "metadata": {},
     "execution_count": 36
    }
   ],
   "source": [
    "# use np arrays as input data type\n",
    "# train_labels = np.array(train['cycle'])   \n",
    "# test_labels = np.array(test['cycle']) \n",
    "train_labels = train['label_bc']  \n",
    "test_labels = test['label_bc']\n",
    "\n",
    "\n",
    "# remove cycle from datasets\n",
    "train_features = train.drop(['cycle', 'id', 'setting1', 'setting2', 'setting3', 'RUL', 'label_bc'], axis=1)    \n",
    "test_features = test.drop(['cycle', 'id', 'setting1', 'setting2', 'setting3', 'RUL', 'label_bc'], axis=1)\n",
    "\n",
    "feature_list = list(train_features.columns)\n",
    "\n",
    "## check data sizes\n",
    "print('Training Features Shape:', train_features.shape)\n",
    "print('Training Labels Shape:', train_labels.shape)\n",
    "print('Testing Features Shape:', test_features.shape)\n",
    "print('Testing Labels Shape:', test_labels.shape)\n",
    "\n",
    "train_features.head()\n",
    "test_features.head()\n",
    "train_labels.head()\n",
    "test_labels.head()"
   ]
  },
  {
   "cell_type": "code",
   "execution_count": 45,
   "metadata": {},
   "outputs": [
    {
     "output_type": "execute_result",
     "data": {
      "text/plain": [
       "       s2       s3       s4      s7       s8       s9    s11     s12      s13  \\\n",
       "0  642.58  1581.22  1398.91  554.42  2388.08  9056.40  47.23  521.79  2388.06   \n",
       "1  642.55  1586.59  1410.83  553.52  2388.10  9044.77  47.67  521.74  2388.09   \n",
       "2  642.88  1589.75  1418.89  552.59  2388.16  9049.26  47.88  520.83  2388.14   \n",
       "3  642.78  1594.53  1406.88  552.64  2388.13  9051.30  47.65  521.88  2388.11   \n",
       "4  642.27  1589.94  1419.36  553.29  2388.10  9053.99  47.46  521.00  2388.15   \n",
       "\n",
       "       s14     s15  s17    s20      s21  \n",
       "0  8130.11  8.4024  393  38.81  23.3552  \n",
       "1  8126.90  8.4505  391  38.81  23.2618  \n",
       "2  8131.46  8.4119  395  38.93  23.2740  \n",
       "3  8133.64  8.4634  395  38.58  23.2581  \n",
       "4  8125.74  8.4362  394  38.75  23.4117  "
      ],
      "text/html": "<div>\n<style scoped>\n    .dataframe tbody tr th:only-of-type {\n        vertical-align: middle;\n    }\n\n    .dataframe tbody tr th {\n        vertical-align: top;\n    }\n\n    .dataframe thead th {\n        text-align: right;\n    }\n</style>\n<table border=\"1\" class=\"dataframe\">\n  <thead>\n    <tr style=\"text-align: right;\">\n      <th></th>\n      <th>s2</th>\n      <th>s3</th>\n      <th>s4</th>\n      <th>s7</th>\n      <th>s8</th>\n      <th>s9</th>\n      <th>s11</th>\n      <th>s12</th>\n      <th>s13</th>\n      <th>s14</th>\n      <th>s15</th>\n      <th>s17</th>\n      <th>s20</th>\n      <th>s21</th>\n    </tr>\n  </thead>\n  <tbody>\n    <tr>\n      <td>0</td>\n      <td>642.58</td>\n      <td>1581.22</td>\n      <td>1398.91</td>\n      <td>554.42</td>\n      <td>2388.08</td>\n      <td>9056.40</td>\n      <td>47.23</td>\n      <td>521.79</td>\n      <td>2388.06</td>\n      <td>8130.11</td>\n      <td>8.4024</td>\n      <td>393</td>\n      <td>38.81</td>\n      <td>23.3552</td>\n    </tr>\n    <tr>\n      <td>1</td>\n      <td>642.55</td>\n      <td>1586.59</td>\n      <td>1410.83</td>\n      <td>553.52</td>\n      <td>2388.10</td>\n      <td>9044.77</td>\n      <td>47.67</td>\n      <td>521.74</td>\n      <td>2388.09</td>\n      <td>8126.90</td>\n      <td>8.4505</td>\n      <td>391</td>\n      <td>38.81</td>\n      <td>23.2618</td>\n    </tr>\n    <tr>\n      <td>2</td>\n      <td>642.88</td>\n      <td>1589.75</td>\n      <td>1418.89</td>\n      <td>552.59</td>\n      <td>2388.16</td>\n      <td>9049.26</td>\n      <td>47.88</td>\n      <td>520.83</td>\n      <td>2388.14</td>\n      <td>8131.46</td>\n      <td>8.4119</td>\n      <td>395</td>\n      <td>38.93</td>\n      <td>23.2740</td>\n    </tr>\n    <tr>\n      <td>3</td>\n      <td>642.78</td>\n      <td>1594.53</td>\n      <td>1406.88</td>\n      <td>552.64</td>\n      <td>2388.13</td>\n      <td>9051.30</td>\n      <td>47.65</td>\n      <td>521.88</td>\n      <td>2388.11</td>\n      <td>8133.64</td>\n      <td>8.4634</td>\n      <td>395</td>\n      <td>38.58</td>\n      <td>23.2581</td>\n    </tr>\n    <tr>\n      <td>4</td>\n      <td>642.27</td>\n      <td>1589.94</td>\n      <td>1419.36</td>\n      <td>553.29</td>\n      <td>2388.10</td>\n      <td>9053.99</td>\n      <td>47.46</td>\n      <td>521.00</td>\n      <td>2388.15</td>\n      <td>8125.74</td>\n      <td>8.4362</td>\n      <td>394</td>\n      <td>38.75</td>\n      <td>23.4117</td>\n    </tr>\n  </tbody>\n</table>\n</div>"
     },
     "metadata": {},
     "execution_count": 45
    }
   ],
   "source": [
    "# define test and training features\n",
    "drop_sensors = 's1 s5 s6 s10 s16 s18 s19'.split(' ')\n",
    "drop_labels = index_names+setting_names+drop_sensors\n",
    "remaining_sensors = 's2 s3 s4 s7 s8 s9 s11 s12 s13 s14 s15 s17 s20 s21'.split(' ')\n",
    "\n",
    "X_train = train.drop(drop_labels, axis=1)\n",
    "y_train = X_train.pop('label_bc')\n",
    "X_test = test.groupby('id').last().reset_index().drop(drop_labels, axis=1)\n",
    "X_test = X_test.drop('label_bc', axis=1)\n",
    "X_train.drop('RUL', axis=1, inplace=True)\n",
    "X_test.drop('RUL', axis=1, inplace=True)"
   ]
  },
  {
   "source": [
    "The other method to predict the RUL is using classification models. In order to effectively use a classification method a proper feature has to be added. \n",
    "In this dataset, we classify if certain sensor values lead to a failure of a system. A failure is marked as 1, whereas a proper operation has 0 as its value. \n",
    "We also define a TTF (time to failure) time and a 'period' variable which defines the number of cycles left until RUL. "
   ],
   "cell_type": "markdown",
   "metadata": {}
  },
  {
   "source": [
    "## Random Forest as classification model"
   ],
   "cell_type": "markdown",
   "metadata": {}
  },
  {
   "cell_type": "code",
   "execution_count": 21,
   "metadata": {},
   "outputs": [
    {
     "output_type": "execute_result",
     "data": {
      "text/plain": [
       "RandomForestClassifier(bootstrap=True, class_weight=None, criterion='gini',\n",
       "                       max_depth=15, max_features='auto', max_leaf_nodes=None,\n",
       "                       min_impurity_decrease=0.0, min_impurity_split=None,\n",
       "                       min_samples_leaf=1, min_samples_split=2,\n",
       "                       min_weight_fraction_leaf=0.0, n_estimators=500,\n",
       "                       n_jobs=None, oob_score=False, random_state=42, verbose=0,\n",
       "                       warm_start=False)"
      ]
     },
     "metadata": {},
     "execution_count": 21
    }
   ],
   "source": [
    "rf_clas = RandomForestClassifier(n_estimators=500, random_state=42, max_depth=15)\n",
    "\n",
    "# fit model\n",
    "rf_clas.fit(train_features, train_labels)"
   ]
  },
  {
   "cell_type": "code",
   "execution_count": 24,
   "metadata": {},
   "outputs": [
    {
     "output_type": "stream",
     "name": "stdout",
     "text": [
      "Mean Absolute Error: 0.01\n"
     ]
    }
   ],
   "source": [
    "# predictions\n",
    "train_label_bc = np.array(train['label_bc'])   # predicting cycle\n",
    "test_label_bc = np.array(test['label_bc']) \n",
    "predictions = rf_clas.predict(test_features)\n",
    "errors = abs(predictions - test_labels)\n",
    "\n",
    "# Print out the mean absolute error\n",
    "print('Mean Absolute Error:', round(np.mean(errors), 2))    # cannot compare regression/classification errors "
   ]
  },
  {
   "cell_type": "code",
   "execution_count": 25,
   "metadata": {},
   "outputs": [
    {
     "output_type": "stream",
     "name": "stdout",
     "text": [
      "Accuracy of model on test data:  0.9866371411117899\nConfusion Matrix: \n [[12716    48]\n [  127   205]]\n"
     ]
    },
    {
     "output_type": "execute_result",
     "data": {
      "text/plain": [
       "   id  cycle  setting1  setting2  setting3      s1      s2       s3       s4  \\\n",
       "0   1      1    0.0023    0.0003     100.0  518.67  643.02  1585.29  1398.21   \n",
       "1   1      2   -0.0027   -0.0003     100.0  518.67  641.71  1588.45  1395.42   \n",
       "2   1      3    0.0003    0.0001     100.0  518.67  642.46  1586.94  1401.34   \n",
       "3   1      4    0.0042    0.0000     100.0  518.67  642.44  1584.12  1406.42   \n",
       "4   1      5    0.0014    0.0000     100.0  518.67  642.51  1587.19  1401.92   \n",
       "\n",
       "      s5  ...      s14     s15   s16  s17   s18    s19    s20      s21  RUL  \\\n",
       "0  14.62  ...  8125.55  8.4052  0.03  392  2388  100.0  38.86  23.3735  142   \n",
       "1  14.62  ...  8139.62  8.3803  0.03  393  2388  100.0  39.02  23.3916  141   \n",
       "2  14.62  ...  8130.10  8.4441  0.03  393  2388  100.0  39.08  23.4166  140   \n",
       "3  14.62  ...  8132.90  8.3917  0.03  391  2388  100.0  39.00  23.3737  139   \n",
       "4  14.62  ...  8129.54  8.4031  0.03  390  2388  100.0  38.99  23.4130  138   \n",
       "\n",
       "   label_bc  \n",
       "0         0  \n",
       "1         0  \n",
       "2         0  \n",
       "3         0  \n",
       "4         0  \n",
       "\n",
       "[5 rows x 28 columns]"
      ],
      "text/html": "<div>\n<style scoped>\n    .dataframe tbody tr th:only-of-type {\n        vertical-align: middle;\n    }\n\n    .dataframe tbody tr th {\n        vertical-align: top;\n    }\n\n    .dataframe thead th {\n        text-align: right;\n    }\n</style>\n<table border=\"1\" class=\"dataframe\">\n  <thead>\n    <tr style=\"text-align: right;\">\n      <th></th>\n      <th>id</th>\n      <th>cycle</th>\n      <th>setting1</th>\n      <th>setting2</th>\n      <th>setting3</th>\n      <th>s1</th>\n      <th>s2</th>\n      <th>s3</th>\n      <th>s4</th>\n      <th>s5</th>\n      <th>...</th>\n      <th>s14</th>\n      <th>s15</th>\n      <th>s16</th>\n      <th>s17</th>\n      <th>s18</th>\n      <th>s19</th>\n      <th>s20</th>\n      <th>s21</th>\n      <th>RUL</th>\n      <th>label_bc</th>\n    </tr>\n  </thead>\n  <tbody>\n    <tr>\n      <td>0</td>\n      <td>1</td>\n      <td>1</td>\n      <td>0.0023</td>\n      <td>0.0003</td>\n      <td>100.0</td>\n      <td>518.67</td>\n      <td>643.02</td>\n      <td>1585.29</td>\n      <td>1398.21</td>\n      <td>14.62</td>\n      <td>...</td>\n      <td>8125.55</td>\n      <td>8.4052</td>\n      <td>0.03</td>\n      <td>392</td>\n      <td>2388</td>\n      <td>100.0</td>\n      <td>38.86</td>\n      <td>23.3735</td>\n      <td>142</td>\n      <td>0</td>\n    </tr>\n    <tr>\n      <td>1</td>\n      <td>1</td>\n      <td>2</td>\n      <td>-0.0027</td>\n      <td>-0.0003</td>\n      <td>100.0</td>\n      <td>518.67</td>\n      <td>641.71</td>\n      <td>1588.45</td>\n      <td>1395.42</td>\n      <td>14.62</td>\n      <td>...</td>\n      <td>8139.62</td>\n      <td>8.3803</td>\n      <td>0.03</td>\n      <td>393</td>\n      <td>2388</td>\n      <td>100.0</td>\n      <td>39.02</td>\n      <td>23.3916</td>\n      <td>141</td>\n      <td>0</td>\n    </tr>\n    <tr>\n      <td>2</td>\n      <td>1</td>\n      <td>3</td>\n      <td>0.0003</td>\n      <td>0.0001</td>\n      <td>100.0</td>\n      <td>518.67</td>\n      <td>642.46</td>\n      <td>1586.94</td>\n      <td>1401.34</td>\n      <td>14.62</td>\n      <td>...</td>\n      <td>8130.10</td>\n      <td>8.4441</td>\n      <td>0.03</td>\n      <td>393</td>\n      <td>2388</td>\n      <td>100.0</td>\n      <td>39.08</td>\n      <td>23.4166</td>\n      <td>140</td>\n      <td>0</td>\n    </tr>\n    <tr>\n      <td>3</td>\n      <td>1</td>\n      <td>4</td>\n      <td>0.0042</td>\n      <td>0.0000</td>\n      <td>100.0</td>\n      <td>518.67</td>\n      <td>642.44</td>\n      <td>1584.12</td>\n      <td>1406.42</td>\n      <td>14.62</td>\n      <td>...</td>\n      <td>8132.90</td>\n      <td>8.3917</td>\n      <td>0.03</td>\n      <td>391</td>\n      <td>2388</td>\n      <td>100.0</td>\n      <td>39.00</td>\n      <td>23.3737</td>\n      <td>139</td>\n      <td>0</td>\n    </tr>\n    <tr>\n      <td>4</td>\n      <td>1</td>\n      <td>5</td>\n      <td>0.0014</td>\n      <td>0.0000</td>\n      <td>100.0</td>\n      <td>518.67</td>\n      <td>642.51</td>\n      <td>1587.19</td>\n      <td>1401.92</td>\n      <td>14.62</td>\n      <td>...</td>\n      <td>8129.54</td>\n      <td>8.4031</td>\n      <td>0.03</td>\n      <td>390</td>\n      <td>2388</td>\n      <td>100.0</td>\n      <td>38.99</td>\n      <td>23.4130</td>\n      <td>138</td>\n      <td>0</td>\n    </tr>\n  </tbody>\n</table>\n<p>5 rows × 28 columns</p>\n</div>"
     },
     "metadata": {},
     "execution_count": 25
    }
   ],
   "source": [
    "print('Accuracy of model on test data: ',accuracy_score(test_label_bc, predictions))\n",
    "print('Confusion Matrix: \\n',confusion_matrix(test_label_bc, predictions))\n",
    "test.head()"
   ]
  },
  {
   "source": [
    "## KNN Model"
   ],
   "cell_type": "markdown",
   "metadata": {}
  },
  {
   "cell_type": "code",
   "execution_count": null,
   "metadata": {},
   "outputs": [],
   "source": [
    "# find best number of neighbours\n",
    "accuracy_n = np.zeros(50)\n",
    "for n in range(1, accuracy_n.shape[0]):\n",
    "    knn = KNeighborsClassifier(n_neighbors=N)\n",
    "    knn.fit()"
   ]
  },
  {
   "cell_type": "code",
   "execution_count": null,
   "metadata": {},
   "outputs": [],
   "source": []
  },
  {
   "cell_type": "code",
   "execution_count": null,
   "metadata": {},
   "outputs": [],
   "source": []
  },
  {
   "cell_type": "code",
   "execution_count": null,
   "metadata": {},
   "outputs": [],
   "source": []
  },
  {
   "cell_type": "code",
   "execution_count": null,
   "metadata": {},
   "outputs": [],
   "source": []
  },
  {
   "cell_type": "code",
   "execution_count": null,
   "metadata": {},
   "outputs": [],
   "source": []
  },
  {
   "source": [
    "# Determining RUL \n",
    "The predictions result only in an array, which classifies if a certain set of sensor values qualifies as part of the class or not. "
   ],
   "cell_type": "markdown",
   "metadata": {}
  },
  {
   "cell_type": "code",
   "execution_count": null,
   "metadata": {},
   "outputs": [],
   "source": []
  },
  {
   "cell_type": "code",
   "execution_count": 26,
   "metadata": {},
   "outputs": [
    {
     "output_type": "stream",
     "name": "stdout",
     "text": [
      "<class 'pandas.core.frame.DataFrame'>\n13096\n"
     ]
    },
    {
     "output_type": "execute_result",
     "data": {
      "text/plain": [
       "   id  cycle  label_bc  failure\n",
       "0   1      1         0      0.0\n",
       "1   1      2         0      0.0\n",
       "2   1      3         0      0.0\n",
       "3   1      4         0      0.0\n",
       "4   1      5         0      0.0"
      ],
      "text/html": "<div>\n<style scoped>\n    .dataframe tbody tr th:only-of-type {\n        vertical-align: middle;\n    }\n\n    .dataframe tbody tr th {\n        vertical-align: top;\n    }\n\n    .dataframe thead th {\n        text-align: right;\n    }\n</style>\n<table border=\"1\" class=\"dataframe\">\n  <thead>\n    <tr style=\"text-align: right;\">\n      <th></th>\n      <th>id</th>\n      <th>cycle</th>\n      <th>label_bc</th>\n      <th>failure</th>\n    </tr>\n  </thead>\n  <tbody>\n    <tr>\n      <td>0</td>\n      <td>1</td>\n      <td>1</td>\n      <td>0</td>\n      <td>0.0</td>\n    </tr>\n    <tr>\n      <td>1</td>\n      <td>1</td>\n      <td>2</td>\n      <td>0</td>\n      <td>0.0</td>\n    </tr>\n    <tr>\n      <td>2</td>\n      <td>1</td>\n      <td>3</td>\n      <td>0</td>\n      <td>0.0</td>\n    </tr>\n    <tr>\n      <td>3</td>\n      <td>1</td>\n      <td>4</td>\n      <td>0</td>\n      <td>0.0</td>\n    </tr>\n    <tr>\n      <td>4</td>\n      <td>1</td>\n      <td>5</td>\n      <td>0</td>\n      <td>0.0</td>\n    </tr>\n  </tbody>\n</table>\n</div>"
     },
     "metadata": {},
     "execution_count": 26
    },
    {
     "output_type": "display_data",
     "data": {
      "text/plain": "<Figure size 432x288 with 1 Axes>",
      "image/svg+xml": "<?xml version=\"1.0\" encoding=\"utf-8\" standalone=\"no\"?>\r\n<!DOCTYPE svg PUBLIC \"-//W3C//DTD SVG 1.1//EN\"\r\n  \"http://www.w3.org/Graphics/SVG/1.1/DTD/svg11.dtd\">\r\n<!-- Created with matplotlib (https://matplotlib.org/) -->\r\n<svg height=\"248.518125pt\" version=\"1.1\" viewBox=\"0 0 372.103125 248.518125\" width=\"372.103125pt\" xmlns=\"http://www.w3.org/2000/svg\" xmlns:xlink=\"http://www.w3.org/1999/xlink\">\r\n <defs>\r\n  <style type=\"text/css\">\r\n*{stroke-linecap:butt;stroke-linejoin:round;}\r\n  </style>\r\n </defs>\r\n <g id=\"figure_1\">\r\n  <g id=\"patch_1\">\r\n   <path d=\"M 0 248.518125 \r\nL 372.103125 248.518125 \r\nL 372.103125 0 \r\nL 0 0 \r\nz\r\n\" style=\"fill:none;\"/>\r\n  </g>\r\n  <g id=\"axes_1\">\r\n   <g id=\"patch_2\">\r\n    <path d=\"M 30.103125 224.64 \r\nL 364.903125 224.64 \r\nL 364.903125 7.2 \r\nL 30.103125 7.2 \r\nz\r\n\" style=\"fill:#ffffff;\"/>\r\n   </g>\r\n   <g id=\"matplotlib.axis_1\">\r\n    <g id=\"xtick_1\">\r\n     <g id=\"line2d_1\">\r\n      <defs>\r\n       <path d=\"M 0 0 \r\nL 0 3.5 \r\n\" id=\"mc99a585e4d\" style=\"stroke:#000000;stroke-width:0.8;\"/>\r\n      </defs>\r\n      <g>\r\n       <use style=\"stroke:#000000;stroke-width:0.8;\" x=\"45.321307\" xlink:href=\"#mc99a585e4d\" y=\"224.64\"/>\r\n      </g>\r\n     </g>\r\n     <g id=\"text_1\">\r\n      <!-- 0 -->\r\n      <defs>\r\n       <path d=\"M 31.78125 66.40625 \r\nQ 24.171875 66.40625 20.328125 58.90625 \r\nQ 16.5 51.421875 16.5 36.375 \r\nQ 16.5 21.390625 20.328125 13.890625 \r\nQ 24.171875 6.390625 31.78125 6.390625 \r\nQ 39.453125 6.390625 43.28125 13.890625 \r\nQ 47.125 21.390625 47.125 36.375 \r\nQ 47.125 51.421875 43.28125 58.90625 \r\nQ 39.453125 66.40625 31.78125 66.40625 \r\nz\r\nM 31.78125 74.21875 \r\nQ 44.046875 74.21875 50.515625 64.515625 \r\nQ 56.984375 54.828125 56.984375 36.375 \r\nQ 56.984375 17.96875 50.515625 8.265625 \r\nQ 44.046875 -1.421875 31.78125 -1.421875 \r\nQ 19.53125 -1.421875 13.0625 8.265625 \r\nQ 6.59375 17.96875 6.59375 36.375 \r\nQ 6.59375 54.828125 13.0625 64.515625 \r\nQ 19.53125 74.21875 31.78125 74.21875 \r\nz\r\n\" id=\"DejaVuSans-48\"/>\r\n      </defs>\r\n      <g transform=\"translate(42.140057 239.238437)scale(0.1 -0.1)\">\r\n       <use xlink:href=\"#DejaVuSans-48\"/>\r\n      </g>\r\n     </g>\r\n    </g>\r\n    <g id=\"xtick_2\">\r\n     <g id=\"line2d_2\">\r\n      <g>\r\n       <use style=\"stroke:#000000;stroke-width:0.8;\" x=\"106.80891\" xlink:href=\"#mc99a585e4d\" y=\"224.64\"/>\r\n      </g>\r\n     </g>\r\n     <g id=\"text_2\">\r\n      <!-- 20 -->\r\n      <defs>\r\n       <path d=\"M 19.1875 8.296875 \r\nL 53.609375 8.296875 \r\nL 53.609375 0 \r\nL 7.328125 0 \r\nL 7.328125 8.296875 \r\nQ 12.9375 14.109375 22.625 23.890625 \r\nQ 32.328125 33.6875 34.8125 36.53125 \r\nQ 39.546875 41.84375 41.421875 45.53125 \r\nQ 43.3125 49.21875 43.3125 52.78125 \r\nQ 43.3125 58.59375 39.234375 62.25 \r\nQ 35.15625 65.921875 28.609375 65.921875 \r\nQ 23.96875 65.921875 18.8125 64.3125 \r\nQ 13.671875 62.703125 7.8125 59.421875 \r\nL 7.8125 69.390625 \r\nQ 13.765625 71.78125 18.9375 73 \r\nQ 24.125 74.21875 28.421875 74.21875 \r\nQ 39.75 74.21875 46.484375 68.546875 \r\nQ 53.21875 62.890625 53.21875 53.421875 \r\nQ 53.21875 48.921875 51.53125 44.890625 \r\nQ 49.859375 40.875 45.40625 35.40625 \r\nQ 44.1875 33.984375 37.640625 27.21875 \r\nQ 31.109375 20.453125 19.1875 8.296875 \r\nz\r\n\" id=\"DejaVuSans-50\"/>\r\n      </defs>\r\n      <g transform=\"translate(100.44641 239.238437)scale(0.1 -0.1)\">\r\n       <use xlink:href=\"#DejaVuSans-50\"/>\r\n       <use x=\"63.623047\" xlink:href=\"#DejaVuSans-48\"/>\r\n      </g>\r\n     </g>\r\n    </g>\r\n    <g id=\"xtick_3\">\r\n     <g id=\"line2d_3\">\r\n      <g>\r\n       <use style=\"stroke:#000000;stroke-width:0.8;\" x=\"168.296513\" xlink:href=\"#mc99a585e4d\" y=\"224.64\"/>\r\n      </g>\r\n     </g>\r\n     <g id=\"text_3\">\r\n      <!-- 40 -->\r\n      <defs>\r\n       <path d=\"M 37.796875 64.3125 \r\nL 12.890625 25.390625 \r\nL 37.796875 25.390625 \r\nz\r\nM 35.203125 72.90625 \r\nL 47.609375 72.90625 \r\nL 47.609375 25.390625 \r\nL 58.015625 25.390625 \r\nL 58.015625 17.1875 \r\nL 47.609375 17.1875 \r\nL 47.609375 0 \r\nL 37.796875 0 \r\nL 37.796875 17.1875 \r\nL 4.890625 17.1875 \r\nL 4.890625 26.703125 \r\nz\r\n\" id=\"DejaVuSans-52\"/>\r\n      </defs>\r\n      <g transform=\"translate(161.934013 239.238437)scale(0.1 -0.1)\">\r\n       <use xlink:href=\"#DejaVuSans-52\"/>\r\n       <use x=\"63.623047\" xlink:href=\"#DejaVuSans-48\"/>\r\n      </g>\r\n     </g>\r\n    </g>\r\n    <g id=\"xtick_4\">\r\n     <g id=\"line2d_4\">\r\n      <g>\r\n       <use style=\"stroke:#000000;stroke-width:0.8;\" x=\"229.784117\" xlink:href=\"#mc99a585e4d\" y=\"224.64\"/>\r\n      </g>\r\n     </g>\r\n     <g id=\"text_4\">\r\n      <!-- 60 -->\r\n      <defs>\r\n       <path d=\"M 33.015625 40.375 \r\nQ 26.375 40.375 22.484375 35.828125 \r\nQ 18.609375 31.296875 18.609375 23.390625 \r\nQ 18.609375 15.53125 22.484375 10.953125 \r\nQ 26.375 6.390625 33.015625 6.390625 \r\nQ 39.65625 6.390625 43.53125 10.953125 \r\nQ 47.40625 15.53125 47.40625 23.390625 \r\nQ 47.40625 31.296875 43.53125 35.828125 \r\nQ 39.65625 40.375 33.015625 40.375 \r\nz\r\nM 52.59375 71.296875 \r\nL 52.59375 62.3125 \r\nQ 48.875 64.0625 45.09375 64.984375 \r\nQ 41.3125 65.921875 37.59375 65.921875 \r\nQ 27.828125 65.921875 22.671875 59.328125 \r\nQ 17.53125 52.734375 16.796875 39.40625 \r\nQ 19.671875 43.65625 24.015625 45.921875 \r\nQ 28.375 48.1875 33.59375 48.1875 \r\nQ 44.578125 48.1875 50.953125 41.515625 \r\nQ 57.328125 34.859375 57.328125 23.390625 \r\nQ 57.328125 12.15625 50.6875 5.359375 \r\nQ 44.046875 -1.421875 33.015625 -1.421875 \r\nQ 20.359375 -1.421875 13.671875 8.265625 \r\nQ 6.984375 17.96875 6.984375 36.375 \r\nQ 6.984375 53.65625 15.1875 63.9375 \r\nQ 23.390625 74.21875 37.203125 74.21875 \r\nQ 40.921875 74.21875 44.703125 73.484375 \r\nQ 48.484375 72.75 52.59375 71.296875 \r\nz\r\n\" id=\"DejaVuSans-54\"/>\r\n      </defs>\r\n      <g transform=\"translate(223.421617 239.238437)scale(0.1 -0.1)\">\r\n       <use xlink:href=\"#DejaVuSans-54\"/>\r\n       <use x=\"63.623047\" xlink:href=\"#DejaVuSans-48\"/>\r\n      </g>\r\n     </g>\r\n    </g>\r\n    <g id=\"xtick_5\">\r\n     <g id=\"line2d_5\">\r\n      <g>\r\n       <use style=\"stroke:#000000;stroke-width:0.8;\" x=\"291.27172\" xlink:href=\"#mc99a585e4d\" y=\"224.64\"/>\r\n      </g>\r\n     </g>\r\n     <g id=\"text_5\">\r\n      <!-- 80 -->\r\n      <defs>\r\n       <path d=\"M 31.78125 34.625 \r\nQ 24.75 34.625 20.71875 30.859375 \r\nQ 16.703125 27.09375 16.703125 20.515625 \r\nQ 16.703125 13.921875 20.71875 10.15625 \r\nQ 24.75 6.390625 31.78125 6.390625 \r\nQ 38.8125 6.390625 42.859375 10.171875 \r\nQ 46.921875 13.96875 46.921875 20.515625 \r\nQ 46.921875 27.09375 42.890625 30.859375 \r\nQ 38.875 34.625 31.78125 34.625 \r\nz\r\nM 21.921875 38.8125 \r\nQ 15.578125 40.375 12.03125 44.71875 \r\nQ 8.5 49.078125 8.5 55.328125 \r\nQ 8.5 64.0625 14.71875 69.140625 \r\nQ 20.953125 74.21875 31.78125 74.21875 \r\nQ 42.671875 74.21875 48.875 69.140625 \r\nQ 55.078125 64.0625 55.078125 55.328125 \r\nQ 55.078125 49.078125 51.53125 44.71875 \r\nQ 48 40.375 41.703125 38.8125 \r\nQ 48.828125 37.15625 52.796875 32.3125 \r\nQ 56.78125 27.484375 56.78125 20.515625 \r\nQ 56.78125 9.90625 50.3125 4.234375 \r\nQ 43.84375 -1.421875 31.78125 -1.421875 \r\nQ 19.734375 -1.421875 13.25 4.234375 \r\nQ 6.78125 9.90625 6.78125 20.515625 \r\nQ 6.78125 27.484375 10.78125 32.3125 \r\nQ 14.796875 37.15625 21.921875 38.8125 \r\nz\r\nM 18.3125 54.390625 \r\nQ 18.3125 48.734375 21.84375 45.5625 \r\nQ 25.390625 42.390625 31.78125 42.390625 \r\nQ 38.140625 42.390625 41.71875 45.5625 \r\nQ 45.3125 48.734375 45.3125 54.390625 \r\nQ 45.3125 60.0625 41.71875 63.234375 \r\nQ 38.140625 66.40625 31.78125 66.40625 \r\nQ 25.390625 66.40625 21.84375 63.234375 \r\nQ 18.3125 60.0625 18.3125 54.390625 \r\nz\r\n\" id=\"DejaVuSans-56\"/>\r\n      </defs>\r\n      <g transform=\"translate(284.90922 239.238437)scale(0.1 -0.1)\">\r\n       <use xlink:href=\"#DejaVuSans-56\"/>\r\n       <use x=\"63.623047\" xlink:href=\"#DejaVuSans-48\"/>\r\n      </g>\r\n     </g>\r\n    </g>\r\n    <g id=\"xtick_6\">\r\n     <g id=\"line2d_6\">\r\n      <g>\r\n       <use style=\"stroke:#000000;stroke-width:0.8;\" x=\"352.759323\" xlink:href=\"#mc99a585e4d\" y=\"224.64\"/>\r\n      </g>\r\n     </g>\r\n     <g id=\"text_6\">\r\n      <!-- 100 -->\r\n      <defs>\r\n       <path d=\"M 12.40625 8.296875 \r\nL 28.515625 8.296875 \r\nL 28.515625 63.921875 \r\nL 10.984375 60.40625 \r\nL 10.984375 69.390625 \r\nL 28.421875 72.90625 \r\nL 38.28125 72.90625 \r\nL 38.28125 8.296875 \r\nL 54.390625 8.296875 \r\nL 54.390625 0 \r\nL 12.40625 0 \r\nz\r\n\" id=\"DejaVuSans-49\"/>\r\n      </defs>\r\n      <g transform=\"translate(343.215573 239.238437)scale(0.1 -0.1)\">\r\n       <use xlink:href=\"#DejaVuSans-49\"/>\r\n       <use x=\"63.623047\" xlink:href=\"#DejaVuSans-48\"/>\r\n       <use x=\"127.246094\" xlink:href=\"#DejaVuSans-48\"/>\r\n      </g>\r\n     </g>\r\n    </g>\r\n   </g>\r\n   <g id=\"matplotlib.axis_2\">\r\n    <g id=\"ytick_1\">\r\n     <g id=\"line2d_7\">\r\n      <defs>\r\n       <path d=\"M 0 0 \r\nL -3.5 0 \r\n\" id=\"m685973f3a3\" style=\"stroke:#000000;stroke-width:0.8;\"/>\r\n      </defs>\r\n      <g>\r\n       <use style=\"stroke:#000000;stroke-width:0.8;\" x=\"30.103125\" xlink:href=\"#m685973f3a3\" y=\"214.756364\"/>\r\n      </g>\r\n     </g>\r\n     <g id=\"text_7\">\r\n      <!-- 0.0 -->\r\n      <defs>\r\n       <path d=\"M 10.6875 12.40625 \r\nL 21 12.40625 \r\nL 21 0 \r\nL 10.6875 0 \r\nz\r\n\" id=\"DejaVuSans-46\"/>\r\n      </defs>\r\n      <g transform=\"translate(7.2 218.555582)scale(0.1 -0.1)\">\r\n       <use xlink:href=\"#DejaVuSans-48\"/>\r\n       <use x=\"63.623047\" xlink:href=\"#DejaVuSans-46\"/>\r\n       <use x=\"95.410156\" xlink:href=\"#DejaVuSans-48\"/>\r\n      </g>\r\n     </g>\r\n    </g>\r\n    <g id=\"ytick_2\">\r\n     <g id=\"line2d_8\">\r\n      <g>\r\n       <use style=\"stroke:#000000;stroke-width:0.8;\" x=\"30.103125\" xlink:href=\"#m685973f3a3\" y=\"175.221818\"/>\r\n      </g>\r\n     </g>\r\n     <g id=\"text_8\">\r\n      <!-- 0.2 -->\r\n      <g transform=\"translate(7.2 179.021037)scale(0.1 -0.1)\">\r\n       <use xlink:href=\"#DejaVuSans-48\"/>\r\n       <use x=\"63.623047\" xlink:href=\"#DejaVuSans-46\"/>\r\n       <use x=\"95.410156\" xlink:href=\"#DejaVuSans-50\"/>\r\n      </g>\r\n     </g>\r\n    </g>\r\n    <g id=\"ytick_3\">\r\n     <g id=\"line2d_9\">\r\n      <g>\r\n       <use style=\"stroke:#000000;stroke-width:0.8;\" x=\"30.103125\" xlink:href=\"#m685973f3a3\" y=\"135.687273\"/>\r\n      </g>\r\n     </g>\r\n     <g id=\"text_9\">\r\n      <!-- 0.4 -->\r\n      <g transform=\"translate(7.2 139.486491)scale(0.1 -0.1)\">\r\n       <use xlink:href=\"#DejaVuSans-48\"/>\r\n       <use x=\"63.623047\" xlink:href=\"#DejaVuSans-46\"/>\r\n       <use x=\"95.410156\" xlink:href=\"#DejaVuSans-52\"/>\r\n      </g>\r\n     </g>\r\n    </g>\r\n    <g id=\"ytick_4\">\r\n     <g id=\"line2d_10\">\r\n      <g>\r\n       <use style=\"stroke:#000000;stroke-width:0.8;\" x=\"30.103125\" xlink:href=\"#m685973f3a3\" y=\"96.152727\"/>\r\n      </g>\r\n     </g>\r\n     <g id=\"text_10\">\r\n      <!-- 0.6 -->\r\n      <g transform=\"translate(7.2 99.951946)scale(0.1 -0.1)\">\r\n       <use xlink:href=\"#DejaVuSans-48\"/>\r\n       <use x=\"63.623047\" xlink:href=\"#DejaVuSans-46\"/>\r\n       <use x=\"95.410156\" xlink:href=\"#DejaVuSans-54\"/>\r\n      </g>\r\n     </g>\r\n    </g>\r\n    <g id=\"ytick_5\">\r\n     <g id=\"line2d_11\">\r\n      <g>\r\n       <use style=\"stroke:#000000;stroke-width:0.8;\" x=\"30.103125\" xlink:href=\"#m685973f3a3\" y=\"56.618182\"/>\r\n      </g>\r\n     </g>\r\n     <g id=\"text_11\">\r\n      <!-- 0.8 -->\r\n      <g transform=\"translate(7.2 60.417401)scale(0.1 -0.1)\">\r\n       <use xlink:href=\"#DejaVuSans-48\"/>\r\n       <use x=\"63.623047\" xlink:href=\"#DejaVuSans-46\"/>\r\n       <use x=\"95.410156\" xlink:href=\"#DejaVuSans-56\"/>\r\n      </g>\r\n     </g>\r\n    </g>\r\n    <g id=\"ytick_6\">\r\n     <g id=\"line2d_12\">\r\n      <g>\r\n       <use style=\"stroke:#000000;stroke-width:0.8;\" x=\"30.103125\" xlink:href=\"#m685973f3a3\" y=\"17.083636\"/>\r\n      </g>\r\n     </g>\r\n     <g id=\"text_12\">\r\n      <!-- 1.0 -->\r\n      <g transform=\"translate(7.2 20.882855)scale(0.1 -0.1)\">\r\n       <use xlink:href=\"#DejaVuSans-49\"/>\r\n       <use x=\"63.623047\" xlink:href=\"#DejaVuSans-46\"/>\r\n       <use x=\"95.410156\" xlink:href=\"#DejaVuSans-48\"/>\r\n      </g>\r\n     </g>\r\n    </g>\r\n   </g>\r\n   <g id=\"line2d_13\">\r\n    <path clip-path=\"url(#pc213c4f68b)\" d=\"M 45.321307 214.756364 \r\nL 48.395687 214.756364 \r\nL 51.470067 214.756364 \r\nL 54.544447 214.756364 \r\nL 57.618827 214.756364 \r\nL 60.693208 214.756364 \r\nL 63.767588 214.756364 \r\nL 66.841968 214.756364 \r\nL 69.916348 214.756364 \r\nL 72.990728 214.756364 \r\nL 76.065108 214.756364 \r\nL 79.139489 214.756364 \r\nL 82.213869 214.756364 \r\nL 85.288249 214.756364 \r\nL 88.362629 214.756364 \r\nL 91.437009 214.756364 \r\nL 94.511389 214.756364 \r\nL 97.58577 214.756364 \r\nL 100.66015 214.756364 \r\nL 103.73453 214.756364 \r\nL 106.80891 214.756364 \r\nL 109.88329 214.756364 \r\nL 112.95767 214.756364 \r\nL 116.032051 214.756364 \r\nL 119.106431 214.756364 \r\nL 122.180811 214.756364 \r\nL 125.255191 214.756364 \r\nL 128.329571 214.756364 \r\nL 131.403951 214.756364 \r\nL 134.478332 214.756364 \r\nL 137.552712 214.756364 \r\nL 140.627092 214.756364 \r\nL 143.701472 214.756364 \r\nL 146.775852 214.756364 \r\nL 149.850232 214.756364 \r\nL 152.924613 214.756364 \r\nL 155.998993 214.756364 \r\nL 159.073373 214.756364 \r\nL 162.147753 214.756364 \r\nL 165.222133 214.756364 \r\nL 168.296513 214.756364 \r\nL 171.370894 214.756364 \r\nL 174.445274 214.756364 \r\nL 177.519654 214.756364 \r\nL 180.594034 214.756364 \r\nL 183.668414 214.756364 \r\nL 186.742794 214.756364 \r\nL 189.817175 214.756364 \r\nL 192.891555 214.756364 \r\nL 195.965935 214.756364 \r\nL 199.040315 214.756364 \r\nL 202.114695 214.756364 \r\nL 205.189075 214.756364 \r\nL 208.263456 214.756364 \r\nL 211.337836 214.756364 \r\nL 214.412216 214.756364 \r\nL 217.486596 214.756364 \r\nL 220.560976 214.756364 \r\nL 223.635356 214.756364 \r\nL 226.709737 214.756364 \r\nL 229.784117 214.756364 \r\nL 232.858497 214.756364 \r\nL 235.932877 214.756364 \r\nL 239.007257 214.756364 \r\nL 242.081637 214.756364 \r\nL 245.156018 214.756364 \r\nL 248.230398 214.756364 \r\nL 251.304778 214.756364 \r\nL 254.379158 214.756364 \r\nL 257.453538 214.756364 \r\nL 260.527918 214.756364 \r\nL 263.602299 214.756364 \r\nL 266.676679 214.756364 \r\nL 269.751059 17.083636 \r\nL 272.825439 214.756364 \r\nL 275.899819 17.083636 \r\nL 278.974199 214.756364 \r\nL 282.04858 214.756364 \r\nL 285.12296 17.083636 \r\nL 288.19734 17.083636 \r\nL 291.27172 214.756364 \r\nL 294.3461 214.756364 \r\nL 297.42048 17.083636 \r\nL 300.494861 17.083636 \r\nL 303.569241 214.756364 \r\nL 306.643621 214.756364 \r\nL 309.718001 17.083636 \r\nL 312.792381 17.083636 \r\nL 315.866761 17.083636 \r\nL 318.941142 17.083636 \r\nL 322.015522 17.083636 \r\nL 325.089902 17.083636 \r\nL 328.164282 214.756364 \r\nL 331.238662 214.756364 \r\nL 334.313042 214.756364 \r\nL 337.387423 214.756364 \r\nL 340.461803 214.756364 \r\nL 343.536183 214.756364 \r\nL 346.610563 214.756364 \r\nL 349.684943 214.756364 \r\n\" style=\"fill:none;stroke:#1f77b4;stroke-linecap:square;stroke-width:1.5;\"/>\r\n   </g>\r\n   <g id=\"patch_3\">\r\n    <path d=\"M 30.103125 224.64 \r\nL 30.103125 7.2 \r\n\" style=\"fill:none;stroke:#000000;stroke-linecap:square;stroke-linejoin:miter;stroke-width:0.8;\"/>\r\n   </g>\r\n   <g id=\"patch_4\">\r\n    <path d=\"M 364.903125 224.64 \r\nL 364.903125 7.2 \r\n\" style=\"fill:none;stroke:#000000;stroke-linecap:square;stroke-linejoin:miter;stroke-width:0.8;\"/>\r\n   </g>\r\n   <g id=\"patch_5\">\r\n    <path d=\"M 30.103125 224.64 \r\nL 364.903125 224.64 \r\n\" style=\"fill:none;stroke:#000000;stroke-linecap:square;stroke-linejoin:miter;stroke-width:0.8;\"/>\r\n   </g>\r\n   <g id=\"patch_6\">\r\n    <path d=\"M 30.103125 7.2 \r\nL 364.903125 7.2 \r\n\" style=\"fill:none;stroke:#000000;stroke-linecap:square;stroke-linejoin:miter;stroke-width:0.8;\"/>\r\n   </g>\r\n  </g>\r\n </g>\r\n <defs>\r\n  <clipPath id=\"pc213c4f68b\">\r\n   <rect height=\"217.44\" width=\"334.8\" x=\"30.103125\" y=\"7.2\"/>\r\n  </clipPath>\r\n </defs>\r\n</svg>\r\n",
      "image/png": "[encoded data removed]"
     },
     "metadata": {
      "needs_background": "light"
     }
    }
   ],
   "source": [
    "# plot prediction to get a better idea\n",
    "prediction_data = test['id cycle'.split(' ')]\n",
    "prediction_data['label_bc'] = predictions\n",
    "# prediction_data['failure'] = \n",
    "# print(prediction_data['id'].max())\n",
    "# print(len(prediction_data))\n",
    "prediction_data['failure'] = np.zeros(len(prediction_data))\n",
    "\n",
    "# print(prediction_data['id'][0])\n",
    "# print(prediction_data['cycle'][13000])\n",
    "# print(y_test['RUL'][currentID])\n",
    "# print(prediction_data['failure'][13000])\n",
    "\n",
    "# for i in range(0, 12999):\n",
    "#     currentID = prediction_data['id'][i] - 1\n",
    "#     if prediction_data['cycle'][i] == y_test['RUL'][currentID]:\n",
    "#         prediction_data['failure'][i] = 1\n",
    "\n",
    "print(type(prediction_data))\n",
    "plt.plot(predictions[4500:4600])\n",
    "# plt.plot(predictions)\n",
    "# prediction_data.head()\n",
    "y_test.head()\n",
    "print(len(prediction_data))\n",
    "# prediction_data['id'][400]\n",
    "prediction_data.head()"
   ]
  }
 ]
}